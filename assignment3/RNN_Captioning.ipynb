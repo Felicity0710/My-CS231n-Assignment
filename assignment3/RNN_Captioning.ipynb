{
 "cells": [
  {
   "cell_type": "markdown",
   "metadata": {
    "colab_type": "text",
    "id": "8KNnFgV8U3UD",
    "tags": [
     "pdf-title"
    ]
   },
   "source": [
    "# Image Captioning with RNNs\n",
    "In this exercise you will implement a vanilla recurrent neural networks and use them it to train a model that can generate novel captions for images."
   ]
  },
  {
   "cell_type": "code",
   "execution_count": 1,
   "metadata": {
    "colab": {
     "base_uri": "https://localhost:8080/",
     "height": 219
    },
    "colab_type": "code",
    "executionInfo": {
     "elapsed": 63024,
     "status": "ok",
     "timestamp": 1562070523487,
     "user": {
      "displayName": "Rishabh Tiwari",
      "photoUrl": "",
      "userId": "18253802032434962752"
     },
     "user_tz": -330
    },
    "id": "oF6eoBnIWlM_",
    "outputId": "3a2971e7-50e5-433a-c1cf-6e80434343c0"
   },
   "outputs": [
    {
     "name": "stdout",
     "output_type": "stream",
     "text": [
      "^C\n"
     ]
    },
    {
     "name": "stdout",
     "output_type": "stream",
     "text": [
      "Collecting scipy==1.1.0\n",
      "  Using cached scipy-1.1.0.tar.gz (15.6 MB)\n",
      "  Installing build dependencies: started\n",
      "  Installing build dependencies: finished with status 'done'\n",
      "  Getting requirements to build wheel: started\n",
      "  Getting requirements to build wheel: finished with status 'done'\n",
      "  Installing backend dependencies: started\n",
      "  Installing backend dependencies: finished with status 'done'\n",
      "  Preparing metadata (pyproject.toml): started\n",
      "  Preparing metadata (pyproject.toml): finished with status 'error'\n"
     ]
    },
    {
     "name": "stderr",
     "output_type": "stream",
     "text": [
      "  error: subprocess-exited-with-error\n",
      "  \n",
      "  × Preparing metadata (pyproject.toml) did not run successfully.\n",
      "  │ exit code: 1\n",
      "  ╰─> [124 lines of output]\n",
      "      <string>:114: DeprecationWarning: the imp module is deprecated in favour of importlib and slated for removal in Python 3.12; see the module's documentation for alternative uses\n",
      "      <string>:375: UserWarning: Unrecognized setuptools command, proceeding with generating Cython sources and expanding templates\n",
      "      <string>:450: DeprecationWarning:\n",
      "      \n",
      "        `numpy.distutils` is deprecated since NumPy 1.23.0, as a result\n",
      "        of the deprecation of `distutils` itself. It will be removed for\n",
      "        Python >= 3.12. For older Python versions it will remain present.\n",
      "        It is recommended to use `setuptools < 60.0` for those Python versions.\n",
      "        For more details, see:\n",
      "          https://numpy.org/devdocs/reference/distutils_status_migration.html\n",
      "      \n",
      "      \n",
      "      C:\\Users\\62610\\AppData\\Local\\Temp\\pip-build-env-qx5f33l9\\overlay\\Lib\\site-packages\\setuptools\\_distutils\\dist.py:289: UserWarning: Unknown distribution option: 'test_suite'\n",
      "        warnings.warn(msg)\n",
      "      C:\\Users\\62610\\AppData\\Local\\Temp\\pip-build-env-qx5f33l9\\overlay\\Lib\\site-packages\\setuptools\\dist.py:759: SetuptoolsDeprecationWarning: License classifiers are deprecated.\n",
      "      !!\n",
      "      \n",
      "              ********************************************************************************\n",
      "              Please consider removing the following classifiers in favor of a SPDX license expression:\n",
      "      \n",
      "              License :: OSI Approved :: BSD License\n",
      "      \n",
      "              See https://packaging.python.org/en/latest/guides/writing-pyproject-toml/#license for details.\n",
      "              ********************************************************************************\n",
      "      \n",
      "      !!\n",
      "        self._finalize_license_expression()\n",
      "      INFO: lapack_opt_info:\n",
      "      INFO: lapack_armpl_info:\n",
      "      INFO: No module named 'numpy.distutils._msvccompiler' in numpy.distutils; trying from distutils\n",
      "      INFO: customize Compiler\n",
      "      INFO:   libraries armpl_lp64_mp not found in ['d:\\\\Documents\\\\CS231n\\\\assignment3\\\\.venv\\\\lib', 'C:\\\\']\n",
      "      INFO:   NOT AVAILABLE\n",
      "      INFO:\n",
      "      INFO: lapack_mkl_info:\n",
      "      INFO:   libraries mkl_rt not found in ['d:\\\\Documents\\\\CS231n\\\\assignment3\\\\.venv\\\\lib', 'C:\\\\']\n",
      "      INFO:   NOT AVAILABLE\n",
      "      INFO:\n",
      "      INFO: lapack_ssl2_info:\n",
      "      INFO:   libraries fjlapackexsve not found in ['d:\\\\Documents\\\\CS231n\\\\assignment3\\\\.venv\\\\lib', 'C:\\\\']\n",
      "      INFO:   NOT AVAILABLE\n",
      "      INFO:\n",
      "      INFO: openblas_lapack_info:\n",
      "      INFO:   libraries openblas not found in ['d:\\\\Documents\\\\CS231n\\\\assignment3\\\\.venv\\\\lib', 'C:\\\\']\n",
      "      Traceback (most recent call last):\n",
      "        File \"d:\\Documents\\CS231n\\assignment3\\.venv\\Lib\\site-packages\\pip\\_vendor\\pyproject_hooks\\_in_process\\_in_process.py\", line 389, in <module>\n",
      "          main()\n",
      "        File \"d:\\Documents\\CS231n\\assignment3\\.venv\\Lib\\site-packages\\pip\\_vendor\\pyproject_hooks\\_in_process\\_in_process.py\", line 373, in main\n",
      "          json_out[\"return_val\"] = hook(**hook_input[\"kwargs\"])\n",
      "                                   ^^^^^^^^^^^^^^^^^^^^^^^^^^^^\n",
      "        File \"d:\\Documents\\CS231n\\assignment3\\.venv\\Lib\\site-packages\\pip\\_vendor\\pyproject_hooks\\_in_process\\_in_process.py\", line 175, in prepare_metadata_for_build_wheel\n",
      "          return hook(metadata_directory, config_settings)\n",
      "                 ^^^^^^^^^^^^^^^^^^^^^^^^^^^^^^^^^^^^^^^^^\n",
      "        File \"C:\\Users\\62610\\AppData\\Local\\Temp\\pip-build-env-qx5f33l9\\overlay\\Lib\\site-packages\\setuptools\\build_meta.py\", line 374, in prepare_metadata_for_build_wheel\n",
      "          self.run_setup()\n",
      "        File \"C:\\Users\\62610\\AppData\\Local\\Temp\\pip-build-env-qx5f33l9\\overlay\\Lib\\site-packages\\setuptools\\build_meta.py\", line 512, in run_setup\n",
      "          super().run_setup(setup_script=setup_script)\n",
      "        File \"C:\\Users\\62610\\AppData\\Local\\Temp\\pip-build-env-qx5f33l9\\overlay\\Lib\\site-packages\\setuptools\\build_meta.py\", line 317, in run_setup\n",
      "          exec(code, locals())\n",
      "        File \"<string>\", line 474, in <module>\n",
      "        File \"<string>\", line 470, in setup_package\n",
      "        File \"C:\\Users\\62610\\AppData\\Local\\Temp\\pip-build-env-qx5f33l9\\normal\\Lib\\site-packages\\numpy\\distutils\\core.py\", line 135, in setup\n",
      "          config = configuration()\n",
      "                   ^^^^^^^^^^^^^^^\n",
      "        File \"<string>\", line 388, in configuration\n",
      "        File \"C:\\Users\\62610\\AppData\\Local\\Temp\\pip-build-env-qx5f33l9\\normal\\Lib\\site-packages\\numpy\\distutils\\misc_util.py\", line 1041, in add_subpackage\n",
      "          config_list = self.get_subpackage(subpackage_name, subpackage_path,\n",
      "                        ^^^^^^^^^^^^^^^^^^^^^^^^^^^^^^^^^^^^^^^^^^^^^^^^^^^^^\n",
      "        File \"C:\\Users\\62610\\AppData\\Local\\Temp\\pip-build-env-qx5f33l9\\normal\\Lib\\site-packages\\numpy\\distutils\\misc_util.py\", line 1007, in get_subpackage\n",
      "          config = self._get_configuration_from_setup_py(\n",
      "                   ^^^^^^^^^^^^^^^^^^^^^^^^^^^^^^^^^^^^^^\n",
      "        File \"C:\\Users\\62610\\AppData\\Local\\Temp\\pip-build-env-qx5f33l9\\normal\\Lib\\site-packages\\numpy\\distutils\\misc_util.py\", line 949, in _get_configuration_from_setup_py\n",
      "          config = setup_module.configuration(*args)\n",
      "                   ^^^^^^^^^^^^^^^^^^^^^^^^^^^^^^^^^\n",
      "        File \"C:\\Users\\62610\\AppData\\Local\\Temp\\pip-install-rsyc5m92\\scipy_df04bda30f7d43ad9ab0134f9d88495b\\scipy\\setup.py\", line 9, in configuration\n",
      "          config.add_subpackage('cluster')\n",
      "        File \"C:\\Users\\62610\\AppData\\Local\\Temp\\pip-build-env-qx5f33l9\\normal\\Lib\\site-packages\\numpy\\distutils\\misc_util.py\", line 1041, in add_subpackage\n",
      "          config_list = self.get_subpackage(subpackage_name, subpackage_path,\n",
      "                        ^^^^^^^^^^^^^^^^^^^^^^^^^^^^^^^^^^^^^^^^^^^^^^^^^^^^^\n",
      "        File \"C:\\Users\\62610\\AppData\\Local\\Temp\\pip-build-env-qx5f33l9\\normal\\Lib\\site-packages\\numpy\\distutils\\misc_util.py\", line 1007, in get_subpackage\n",
      "          config = self._get_configuration_from_setup_py(\n",
      "                   ^^^^^^^^^^^^^^^^^^^^^^^^^^^^^^^^^^^^^^\n",
      "        File \"C:\\Users\\62610\\AppData\\Local\\Temp\\pip-build-env-qx5f33l9\\normal\\Lib\\site-packages\\numpy\\distutils\\misc_util.py\", line 949, in _get_configuration_from_setup_py\n",
      "          config = setup_module.configuration(*args)\n",
      "                   ^^^^^^^^^^^^^^^^^^^^^^^^^^^^^^^^^\n",
      "        File \"C:\\Users\\62610\\AppData\\Local\\Temp\\pip-install-rsyc5m92\\scipy_df04bda30f7d43ad9ab0134f9d88495b\\scipy\\cluster\\setup.py\", line 16, in configuration\n",
      "          blas_opt = get_info('lapack_opt')\n",
      "                     ^^^^^^^^^^^^^^^^^^^^^^\n",
      "        File \"C:\\Users\\62610\\AppData\\Local\\Temp\\pip-build-env-qx5f33l9\\normal\\Lib\\site-packages\\numpy\\distutils\\system_info.py\", line 592, in get_info\n",
      "          return cl().get_info(notfound_action)\n",
      "                 ^^^^^^^^^^^^^^^^^^^^^^^^^^^^^^\n",
      "        File \"C:\\Users\\62610\\AppData\\Local\\Temp\\pip-build-env-qx5f33l9\\normal\\Lib\\site-packages\\numpy\\distutils\\system_info.py\", line 852, in get_info\n",
      "          self.calc_info()\n",
      "        File \"C:\\Users\\62610\\AppData\\Local\\Temp\\pip-build-env-qx5f33l9\\normal\\Lib\\site-packages\\numpy\\distutils\\system_info.py\", line 1989, in calc_info\n",
      "          if self._calc_info(lapack):\n",
      "             ^^^^^^^^^^^^^^^^^^^^^^^\n",
      "        File \"C:\\Users\\62610\\AppData\\Local\\Temp\\pip-build-env-qx5f33l9\\normal\\Lib\\site-packages\\numpy\\distutils\\system_info.py\", line 1973, in _calc_info\n",
      "          return getattr(self, '_calc_info_{}'.format(name))()\n",
      "                 ^^^^^^^^^^^^^^^^^^^^^^^^^^^^^^^^^^^^^^^^^^^^^\n",
      "        File \"C:\\Users\\62610\\AppData\\Local\\Temp\\pip-build-env-qx5f33l9\\normal\\Lib\\site-packages\\numpy\\distutils\\system_info.py\", line 1880, in _calc_info_openblas\n",
      "          info = get_info('openblas_lapack')\n",
      "                 ^^^^^^^^^^^^^^^^^^^^^^^^^^^\n",
      "        File \"C:\\Users\\62610\\AppData\\Local\\Temp\\pip-build-env-qx5f33l9\\normal\\Lib\\site-packages\\numpy\\distutils\\system_info.py\", line 592, in get_info\n",
      "          return cl().get_info(notfound_action)\n",
      "                 ^^^^^^^^^^^^^^^^^^^^^^^^^^^^^^\n",
      "        File \"C:\\Users\\62610\\AppData\\Local\\Temp\\pip-build-env-qx5f33l9\\normal\\Lib\\site-packages\\numpy\\distutils\\system_info.py\", line 852, in get_info\n",
      "          self.calc_info()\n",
      "        File \"C:\\Users\\62610\\AppData\\Local\\Temp\\pip-build-env-qx5f33l9\\normal\\Lib\\site-packages\\numpy\\distutils\\system_info.py\", line 2364, in calc_info\n",
      "          info = self._calc_info()\n",
      "                 ^^^^^^^^^^^^^^^^^\n",
      "        File \"C:\\Users\\62610\\AppData\\Local\\Temp\\pip-build-env-qx5f33l9\\normal\\Lib\\site-packages\\numpy\\distutils\\system_info.py\", line 2335, in _calc_info\n",
      "          f = new_fcompiler(c_compiler=c)\n",
      "              ^^^^^^^^^^^^^^^^^^^^^^^^^^^\n",
      "        File \"C:\\Users\\62610\\AppData\\Local\\Temp\\pip-build-env-qx5f33l9\\normal\\Lib\\site-packages\\numpy\\distutils\\fcompiler\\__init__.py\", line 888, in new_fcompiler\n",
      "          load_all_fcompiler_classes()\n",
      "        File \"C:\\Users\\62610\\AppData\\Local\\Temp\\pip-build-env-qx5f33l9\\normal\\Lib\\site-packages\\numpy\\distutils\\fcompiler\\__init__.py\", line 789, in load_all_fcompiler_classes\n",
      "          __import__ (module_name)\n",
      "        File \"C:\\Users\\62610\\AppData\\Local\\Temp\\pip-build-env-qx5f33l9\\normal\\Lib\\site-packages\\numpy\\distutils\\fcompiler\\compaq.py\", line 54, in <module>\n",
      "          class CompaqVisualFCompiler(FCompiler):\n",
      "        File \"C:\\Users\\62610\\AppData\\Local\\Temp\\pip-build-env-qx5f33l9\\normal\\Lib\\site-packages\\numpy\\distutils\\fcompiler\\compaq.py\", line 74, in CompaqVisualFCompiler\n",
      "          from numpy.distutils.msvccompiler import MSVCCompiler\n",
      "        File \"C:\\Users\\62610\\AppData\\Local\\Temp\\pip-build-env-qx5f33l9\\normal\\Lib\\site-packages\\numpy\\distutils\\msvccompiler.py\", line 2, in <module>\n",
      "          from distutils.msvccompiler import MSVCCompiler as _MSVCCompiler\n",
      "      ModuleNotFoundError: No module named 'distutils.msvccompiler'\n",
      "      [end of output]\n",
      "  \n",
      "  note: This error originates from a subprocess, and is likely not a problem with pip.\n",
      "error: metadata-generation-failed\n",
      "\n",
      "× Encountered error while generating package metadata.\n",
      "╰─> See above for output.\n",
      "\n",
      "note: This is an issue with the package mentioned above, not pip.\n",
      "hint: See above for details.\n"
     ]
    }
   ],
   "source": [
    "!pip install scipy==1.1.0"
   ]
  },
  {
   "cell_type": "code",
   "execution_count": 1,
   "metadata": {
    "colab": {
     "base_uri": "https://localhost:8080/",
     "height": 54
    },
    "colab_type": "code",
    "executionInfo": {
     "elapsed": 1116,
     "status": "ok",
     "timestamp": 1562078548039,
     "user": {
      "displayName": "Rishabh Tiwari",
      "photoUrl": "",
      "userId": "18253802032434962752"
     },
     "user_tz": -330
    },
    "id": "ObeTcAGpU3UF",
    "outputId": "c4959b42-7e88-4948-89e8-597315eb7da2",
    "tags": [
     "pdf-ignore"
    ]
   },
   "outputs": [],
   "source": [
    "# As usual, a bit of setup\n",
    "import time, os, json\n",
    "import numpy as np\n",
    "import matplotlib.pyplot as plt\n",
    "\n",
    "from cs231n.gradient_check import eval_numerical_gradient, eval_numerical_gradient_array\n",
    "from cs231n.rnn_layers import *\n",
    "from cs231n.captioning_solver import CaptioningSolver\n",
    "from cs231n.classifiers.rnn import CaptioningRNN\n",
    "from cs231n.coco_utils import load_coco_data, sample_coco_minibatch, decode_captions\n",
    "from cs231n.image_utils import image_from_url\n",
    "\n",
    "%matplotlib inline\n",
    "plt.rcParams['figure.figsize'] = (10.0, 8.0) # set default size of plots\n",
    "plt.rcParams['image.interpolation'] = 'nearest'\n",
    "plt.rcParams['image.cmap'] = 'gray'\n",
    "\n",
    "# for auto-reloading external modules\n",
    "# see http://stackoverflow.com/questions/1907993/autoreload-of-modules-in-ipython\n",
    "%load_ext autoreload\n",
    "%autoreload 2\n",
    "\n",
    "def rel_error(x, y):\n",
    "    \"\"\" returns relative error \"\"\"\n",
    "    return np.max(np.abs(x - y) / (np.maximum(1e-8, np.abs(x) + np.abs(y))))"
   ]
  },
  {
   "cell_type": "code",
   "execution_count": 7,
   "metadata": {},
   "outputs": [],
   "source": [
    "import subprocess\n",
    "import sys\n",
    "\n",
    "# Install required packages\n",
    "packages = [\"matplotlib\", \"numpy\", \"scipy\", \"Pillow\", \"requests\", \"future\"]\n",
    "for package in packages:\n",
    "    subprocess.check_call([sys.executable, \"-m\", \"pip\", \"install\", package])"
   ]
  },
  {
   "cell_type": "markdown",
   "metadata": {
    "colab_type": "text",
    "id": "pbTWpfdUU3UK"
   },
   "source": [
    "## Install h5py\n",
    "The COCO dataset we will be using is stored in HDF5 format. To load HDF5 files, we will need to install the `h5py` Python package. From the command line, run: <br/>\n",
    "`pip install h5py`  <br/>\n",
    "If you receive a permissions error, you may need to run the command as root: <br/>\n",
    "```sudo pip install h5py```\n",
    "\n",
    "You can also run commands directly from the Jupyter notebook by prefixing the command with the \"!\" character:"
   ]
  },
  {
   "cell_type": "code",
   "execution_count": 2,
   "metadata": {
    "colab": {
     "base_uri": "https://localhost:8080/",
     "height": 92
    },
    "colab_type": "code",
    "executionInfo": {
     "elapsed": 62597,
     "status": "ok",
     "timestamp": 1562070528396,
     "user": {
      "displayName": "Rishabh Tiwari",
      "photoUrl": "",
      "userId": "18253802032434962752"
     },
     "user_tz": -330
    },
    "id": "M5Tv7lLKU3UL",
    "outputId": "3641a2c9-2275-4b09-db35-29526c61bb24"
   },
   "outputs": [
    {
     "name": "stdout",
     "output_type": "stream",
     "text": [
      "Collecting h5py\n",
      "  Using cached h5py-3.14.0-cp311-cp311-win_amd64.whl.metadata (2.7 kB)\n",
      "Collecting numpy>=1.19.3 (from h5py)\n",
      "  Using cached numpy-2.3.2-cp311-cp311-win_amd64.whl.metadata (60 kB)\n",
      "Using cached h5py-3.14.0-cp311-cp311-win_amd64.whl (2.9 MB)\n",
      "Using cached numpy-2.3.2-cp311-cp311-win_amd64.whl (13.1 MB)\n",
      "Installing collected packages: numpy, h5py\n",
      "\n",
      "   ---------------------------------------- 0/2 [numpy]\n",
      "   ---------------------------------------- 0/2 [numpy]\n",
      "   ---------------------------------------- 0/2 [numpy]\n",
      "   ---------------------------------------- 0/2 [numpy]\n",
      "   ---------------------------------------- 0/2 [numpy]\n",
      "   ---------------------------------------- 0/2 [numpy]\n",
      "   ---------------------------------------- 0/2 [numpy]\n",
      "   ---------------------------------------- 0/2 [numpy]\n",
      "   ---------------------------------------- 0/2 [numpy]\n",
      "   ---------------------------------------- 0/2 [numpy]\n",
      "   ---------------------------------------- 0/2 [numpy]\n",
      "   ---------------------------------------- 0/2 [numpy]\n",
      "   ---------------------------------------- 0/2 [numpy]\n",
      "   ---------------------------------------- 0/2 [numpy]\n",
      "   ---------------------------------------- 0/2 [numpy]\n",
      "   ---------------------------------------- 0/2 [numpy]\n",
      "   ---------------------------------------- 0/2 [numpy]\n",
      "   ---------------------------------------- 0/2 [numpy]\n",
      "   ---------------------------------------- 0/2 [numpy]\n",
      "   ---------------------------------------- 0/2 [numpy]\n",
      "   ---------------------------------------- 0/2 [numpy]\n",
      "   ---------------------------------------- 0/2 [numpy]\n",
      "   ---------------------------------------- 0/2 [numpy]\n",
      "   ---------------------------------------- 0/2 [numpy]\n",
      "   ---------------------------------------- 0/2 [numpy]\n",
      "   ---------------------------------------- 0/2 [numpy]\n",
      "   ---------------------------------------- 0/2 [numpy]\n",
      "   ---------------------------------------- 0/2 [numpy]\n",
      "   ---------------------------------------- 0/2 [numpy]\n",
      "   ---------------------------------------- 0/2 [numpy]\n",
      "   ---------------------------------------- 0/2 [numpy]\n",
      "   ---------------------------------------- 0/2 [numpy]\n",
      "   ---------------------------------------- 0/2 [numpy]\n",
      "   ---------------------------------------- 0/2 [numpy]\n",
      "   ---------------------------------------- 0/2 [numpy]\n",
      "   ---------------------------------------- 0/2 [numpy]\n",
      "   ---------------------------------------- 0/2 [numpy]\n",
      "   ---------------------------------------- 0/2 [numpy]\n",
      "   ---------------------------------------- 0/2 [numpy]\n",
      "   -------------------- ------------------- 1/2 [h5py]\n",
      "   -------------------- ------------------- 1/2 [h5py]\n",
      "   -------------------- ------------------- 1/2 [h5py]\n",
      "   -------------------- ------------------- 1/2 [h5py]\n",
      "   -------------------- ------------------- 1/2 [h5py]\n",
      "   ---------------------------------------- 2/2 [h5py]\n",
      "\n",
      "Successfully installed h5py-3.14.0 numpy-2.3.2\n"
     ]
    }
   ],
   "source": [
    "!pip install h5py"
   ]
  },
  {
   "cell_type": "markdown",
   "metadata": {
    "colab_type": "text",
    "id": "7b0LEplAU3UP",
    "tags": [
     "pdf-ignore"
    ]
   },
   "source": [
    "# Microsoft COCO\n",
    "For this exercise we will use the 2014 release of the [Microsoft COCO dataset](http://mscoco.org/) which has become the standard testbed for image captioning. The dataset consists of 80,000 training images and 40,000 validation images, each annotated with 5 captions written by workers on Amazon Mechanical Turk.\n",
    "\n",
    "You should have already downloaded the data by changing to the `cs231n/datasets` directory and running the script `get_assignment3_data.sh`. If you haven't yet done so, run that script now. Warning: the COCO data download is ~1GB.\n",
    "\n",
    "We have preprocessed the data and extracted features for you already. For all images we have extracted features from the fc7 layer of the VGG-16 network pretrained on ImageNet; these features are stored in the files `train2014_vgg16_fc7.h5` and `val2014_vgg16_fc7.h5` respectively. To cut down on processing time and memory requirements, we have reduced the dimensionality of the features from 4096 to 512; these features can be found in the files `train2014_vgg16_fc7_pca.h5` and `val2014_vgg16_fc7_pca.h5`.\n",
    "\n",
    "The raw images take up a lot of space (nearly 20GB) so we have not included them in the download. However all images are taken from Flickr, and URLs of the training and validation images are stored in the files `train2014_urls.txt` and `val2014_urls.txt` respectively. This allows you to download images on the fly for visualization. Since images are downloaded on-the-fly, **you must be connected to the internet to view images**.\n",
    "\n",
    "Dealing with strings is inefficient, so we will work with an encoded version of the captions. Each word is assigned an integer ID, allowing us to represent a caption by a sequence of integers. The mapping between integer IDs and words is in the file `coco2014_vocab.json`, and you can use the function `decode_captions` from the file `cs231n/coco_utils.py` to convert numpy arrays of integer IDs back into strings.\n",
    "\n",
    "There are a couple special tokens that we add to the vocabulary. We prepend a special `<START>` token and append an `<END>` token to the beginning and end of each caption respectively. Rare words are replaced with a special `<UNK>` token (for \"unknown\"). In addition, since we want to train with minibatches containing captions of different lengths, we pad short captions with a special `<NULL>` token after the `<END>` token and don't compute loss or gradient for `<NULL>` tokens. Since they are a bit of a pain, we have taken care of all implementation details around special tokens for you.\n",
    "\n",
    "You can load all of the MS-COCO data (captions, features, URLs, and vocabulary) using the `load_coco_data` function from the file `cs231n/coco_utils.py`. Run the following cell to do so:"
   ]
  },
  {
   "cell_type": "code",
   "execution_count": 2,
   "metadata": {
    "colab": {
     "base_uri": "https://localhost:8080/",
     "height": 199
    },
    "colab_type": "code",
    "executionInfo": {
     "elapsed": 2742,
     "status": "ok",
     "timestamp": 1562078556443,
     "user": {
      "displayName": "Rishabh Tiwari",
      "photoUrl": "",
      "userId": "18253802032434962752"
     },
     "user_tz": -330
    },
    "id": "LplaYC6dU3UQ",
    "outputId": "a929da15-ec78-4c61-9f65-97f7d1908566",
    "tags": [
     "pdf-ignore"
    ]
   },
   "outputs": [
    {
     "name": "stdout",
     "output_type": "stream",
     "text": [
      "✅ 找到COCO数据集，正在加载...\n",
      "train_captions <class 'numpy.ndarray'> (400135, 17) int32\n",
      "train_image_idxs <class 'numpy.ndarray'> (400135,) int32\n",
      "val_captions <class 'numpy.ndarray'> (195954, 17) int32\n",
      "val_image_idxs <class 'numpy.ndarray'> (195954,) int32\n",
      "train_features <class 'numpy.ndarray'> (82783, 512) float32\n",
      "val_features <class 'numpy.ndarray'> (40504, 512) float32\n",
      "idx_to_word <class 'list'> 1004\n",
      "word_to_idx <class 'dict'> 1004\n",
      "train_urls <class 'numpy.ndarray'> (82783,) <U63\n",
      "val_urls <class 'numpy.ndarray'> (40504,) <U63\n",
      "train_captions <class 'numpy.ndarray'> (400135, 17) int32\n",
      "train_image_idxs <class 'numpy.ndarray'> (400135,) int32\n",
      "val_captions <class 'numpy.ndarray'> (195954, 17) int32\n",
      "val_image_idxs <class 'numpy.ndarray'> (195954,) int32\n",
      "train_features <class 'numpy.ndarray'> (82783, 512) float32\n",
      "val_features <class 'numpy.ndarray'> (40504, 512) float32\n",
      "idx_to_word <class 'list'> 1004\n",
      "word_to_idx <class 'dict'> 1004\n",
      "train_urls <class 'numpy.ndarray'> (82783,) <U63\n",
      "val_urls <class 'numpy.ndarray'> (40504,) <U63\n"
     ]
    }
   ],
   "source": [
    "# 尝试加载COCO数据\n",
    "import os\n",
    "\n",
    "dataset_path = \"cs231n/datasets/coco_captioning/coco2014_captions.h5\"\n",
    "\n",
    "if os.path.exists(dataset_path):\n",
    "    print(\"✅ 找到COCO数据集，正在加载...\")\n",
    "    # Load COCO data from disk; this returns a dictionary\n",
    "    # We'll work with dimensionality-reduced features for this notebook, but feel\n",
    "    # free to experiment with the original features by changing the flag below.\n",
    "    data = load_coco_data(pca_features=True)\n",
    "\n",
    "    # Print out all the keys and values from the data dictionary\n",
    "    for k, v in data.items():\n",
    "        if type(v) == np.ndarray:\n",
    "            print(k, type(v), v.shape, v.dtype)\n",
    "        else:\n",
    "            print(k, type(v), len(v))\n",
    "else:\n",
    "    print(\"❌ 未找到COCO数据集\")\n",
    "    print(\"请按照上面的说明下载并解压数据集\")\n",
    "    print(\"\\n不过，我们可以测试环境是否正确配置...\")\n",
    "    \n",
    "    # 测试基本功能\n",
    "    print(\"✅ 测试numpy:\", np.__version__)\n",
    "    print(\"✅ 测试matplotlib:\", plt.matplotlib.__version__)\n",
    "    print(\"✅ 测试CS231n模块导入正常\")\n",
    "    \n",
    "    # 创建一个更完整的虚拟数据字典用于测试\n",
    "    num_train = 100\n",
    "    num_val = 50\n",
    "    vocab_size = 1000\n",
    "    \n",
    "    data = {\n",
    "        'word_to_idx': {'<NULL>': 0, '<START>': 1, '<END>': 2, '<UNK>': 3, 'the': 4, 'cat': 5, 'dog': 6, 'is': 7, 'on': 8, 'a': 9},\n",
    "        'idx_to_word': {0: '<NULL>', 1: '<START>', 2: '<END>', 3: '<UNK>', 4: 'the', 5: 'cat', 6: 'dog', 7: 'is', 8: 'on', 9: 'a'},\n",
    "        \n",
    "        # 训练数据\n",
    "        'train_features': np.random.randn(num_train, 512),  # VGG特征\n",
    "        'train_captions': np.random.randint(0, 10, (num_train, 15)),  # 标题\n",
    "        'train_image_idxs': np.arange(num_train),  # 图片索引\n",
    "        'train_urls': [f'https://example.com/image_{i}.jpg' for i in range(num_train)],  # 虚拟URL\n",
    "        \n",
    "        # 验证数据\n",
    "        'val_features': np.random.randn(num_val, 512),\n",
    "        'val_captions': np.random.randint(0, 10, (num_val, 15)),\n",
    "        'val_image_idxs': np.arange(num_val),\n",
    "        'val_urls': [f'https://example.com/val_image_{i}.jpg' for i in range(num_val)],\n",
    "    }\n",
    "    print(\"✅ 创建了完整的测试数据集用于演示\")\n",
    "    print(f\"  - 训练样本: {num_train}\")\n",
    "    print(f\"  - 验证样本: {num_val}\")\n",
    "    print(f\"  - 词汇表大小: {len(data['word_to_idx'])}\")\n",
    "    print(f\"  - 特征维度: {data['train_features'].shape[1]}\")\n",
    "    \n",
    "    print(\"\\n⚠️ 注意: 这是模拟数据，图片URL无法正常显示\")"
   ]
  },
  {
   "cell_type": "code",
   "execution_count": 5,
   "metadata": {},
   "outputs": [
    {
     "name": "stdout",
     "output_type": "stream",
     "text": [
      "开始下载COCO数据集...\n",
      "数据集大小约1GB，请耐心等待...\n",
      "正在解压文件...\n",
      "✅ 解压完成，已删除zip文件\n",
      "✅ 数据集安装成功!\n",
      "\n",
      "数据集文件:\n",
      "  - coco2014_captions.h5 (40MB)\n",
      "  - coco2014_vocab.json (0MB)\n",
      "  - train2014_images.txt (4MB)\n",
      "  - train2014_urls.txt (4MB)\n",
      "  - train2014_vgg16_fc7.h5 (1293MB)\n",
      "  - train2014_vgg16_fc7_pca.h5 (161MB)\n",
      "  - val2014_images.txt (1MB)\n",
      "  - val2014_urls.txt (2MB)\n",
      "  - val2014_vgg16_fc7.h5 (632MB)\n",
      "  - val2014_vgg16_fc7_pca.h5 (79MB)\n"
     ]
    }
   ],
   "source": [
    "import os\n",
    "import urllib.request\n",
    "import zipfile\n",
    "import shutil\n",
    "\n",
    "def download_coco_dataset():\n",
    "    \"\"\"下载并解压COCO数据集\"\"\"\n",
    "    \n",
    "    # 设置路径 - 修复路径问题\n",
    "    dataset_dir = \"cs231n/datasets\"\n",
    "    zip_path = os.path.join(dataset_dir, \"coco_captioning.zip\")\n",
    "    extract_path = os.path.join(dataset_dir, \"coco_captioning\")\n",
    "    test_file = os.path.join(extract_path, \"coco2014_captions.h5\")\n",
    "    \n",
    "    # 确保目录存在\n",
    "    os.makedirs(dataset_dir, exist_ok=True)\n",
    "    \n",
    "    # 检查数据集是否已存在\n",
    "    if os.path.exists(test_file):\n",
    "        print(\"✅ COCO数据集已存在!\")\n",
    "        return True\n",
    "    \n",
    "    print(\"开始下载COCO数据集...\")\n",
    "    print(\"数据集大小约1GB，请耐心等待...\")\n",
    "    \n",
    "    try:\n",
    "        # 解压文件\n",
    "        print(\"正在解压文件...\")\n",
    "        with zipfile.ZipFile(zip_path, 'r') as zip_ref:\n",
    "            zip_ref.extractall(dataset_dir)\n",
    "        \n",
    "        # 清理zip文件\n",
    "        os.remove(zip_path)\n",
    "        print(\"✅ 解压完成，已删除zip文件\")\n",
    "        \n",
    "        # 验证解压结果\n",
    "        if os.path.exists(test_file):\n",
    "            print(\"✅ 数据集安装成功!\")\n",
    "            \n",
    "            # 列出数据集文件\n",
    "            print(\"\\n数据集文件:\")\n",
    "            for file in os.listdir(extract_path):\n",
    "                file_path = os.path.join(extract_path, file)\n",
    "                if os.path.isfile(file_path):\n",
    "                    size_mb = os.path.getsize(file_path) // (1024*1024)\n",
    "                    print(f\"  - {file} ({size_mb}MB)\")\n",
    "            \n",
    "            return True\n",
    "        else:\n",
    "            print(\"❌ 解压后未找到预期文件\")\n",
    "            return False\n",
    "            \n",
    "    except Exception as e:\n",
    "        print(f\"❌ 下载失败: {e}\")\n",
    "        print(\"\\n手动下载方法:\")\n",
    "        print(\"1. 使用浏览器访问: http://cs231n.stanford.edu/coco_captioning.zip\")\n",
    "        print(\"2. 下载文件到本项目的 cs231n/datasets/ 目录\")\n",
    "        print(\"3. 手动解压zip文件\")\n",
    "        print(\"4. 运行下面的数据加载代码验证\")\n",
    "        return False\n",
    "\n",
    "# 执行下载\n",
    "success = download_coco_dataset()"
   ]
  },
  {
   "cell_type": "markdown",
   "metadata": {},
   "source": [
    "## 手动下载COCO数据集指南\n",
    "\n",
    "如果自动下载遇到问题，请按照以下步骤手动下载：\n",
    "\n",
    "### 步骤 1: 下载数据集\n",
    "1. 在浏览器中访问：http://cs231n.stanford.edu/coco_captioning.zip\n",
    "2. 下载文件（约1GB，需要一些时间）\n",
    "3. 保存到你能找到的位置（如桌面）\n",
    "\n",
    "### 步骤 2: 移动和解压文件\n",
    "1. 将下载的 `coco_captioning.zip` 文件复制到：\n",
    "   ```\n",
    "   d:\\Documents\\CS231n\\assignment3\\cs231n\\datasets\\\n",
    "   ```\n",
    "2. 在该目录下解压zip文件\n",
    "3. 解压后应该得到一个 `coco_captioning` 文件夹\n",
    "\n",
    "### 步骤 3: 验证文件结构\n",
    "解压后的目录结构应该是：\n",
    "```\n",
    "cs231n/datasets/coco_captioning/\n",
    "├── coco2014_captions.h5          (约2MB)\n",
    "├── coco2014_vocab.json           (约46KB)  \n",
    "├── train2014_vgg16_fc7_pca.h5    (约40MB)\n",
    "├── val2014_vgg16_fc7_pca.h5      (约20MB)\n",
    "├── train2014_urls.txt            (约5MB)\n",
    "└── val2014_urls.txt              (约3MB)\n",
    "```\n",
    "\n",
    "### 步骤 4: 清理\n",
    "删除zip文件以节省空间：\n",
    "```\n",
    "cs231n/datasets/coco_captioning.zip\n",
    "```\n",
    "\n",
    "### 使用Windows命令行的替代方法\n",
    "如果您熟悉命令行，也可以使用PowerShell：\n",
    "```powershell\n",
    "cd \"d:\\Documents\\CS231n\\assignment3\\cs231n\\datasets\"\n",
    "# 使用curl下载（Windows 10+自带）\n",
    "curl -o coco_captioning.zip http://cs231n.stanford.edu/coco_captioning.zip\n",
    "# 解压（需要安装7-zip或使用Windows内置解压）\n",
    "Expand-Archive coco_captioning.zip .\n",
    "# 删除zip文件\n",
    "del coco_captioning.zip\n",
    "```"
   ]
  },
  {
   "cell_type": "markdown",
   "metadata": {
    "colab_type": "text",
    "id": "RhO7-_P3U3UU"
   },
   "source": [
    "## Look at the data\n",
    "It is always a good idea to look at examples from the dataset before working with it.\n",
    "\n",
    "You can use the `sample_coco_minibatch` function from the file `cs231n/coco_utils.py` to sample minibatches of data from the data structure returned from `load_coco_data`. Run the following to sample a small minibatch of training data and show the images and their captions. Running it multiple times and looking at the results helps you to get a sense of the dataset.\n",
    "\n",
    "Note that we decode the captions using the `decode_captions` function and that we download the images on-the-fly using their Flickr URL, so **you must be connected to the internet to view images**."
   ]
  },
  {
   "cell_type": "code",
   "execution_count": 6,
   "metadata": {
    "colab": {
     "base_uri": "https://localhost:8080/",
     "height": 1000
    },
    "colab_type": "code",
    "executionInfo": {
     "elapsed": 43268,
     "status": "ok",
     "timestamp": 1562078600618,
     "user": {
      "displayName": "Rishabh Tiwari",
      "photoUrl": "",
      "userId": "18253802032434962752"
     },
     "user_tz": -330
    },
    "id": "S6u-2IENU3UV",
    "outputId": "30a18830-427c-49c2-a896-750456ff7ac9"
   },
   "outputs": [
    {
     "name": "stdout",
     "output_type": "stream",
     "text": [
      "使用真实COCO数据集:\n",
      "\n",
      "图片 1:\n",
      "URL: http://farm8.staticflickr.com/7035/6741746517_19fae46c8c_z.jpg\n",
      "标题: <START> a market that is <UNK> many various types of fruits and vegetables <END>\n",
      "URL Error:  [WinError 10061] 由于目标计算机积极拒绝，无法连接。 http://farm8.staticflickr.com/7035/6741746517_19fae46c8c_z.jpg\n",
      "⚠️ 无法显示图片: Image data of dtype object cannot be converted to float\n",
      "这可能是由于:\n",
      "  - 网络连接问题\n",
      "  - 图片URL已失效\n",
      "  - 临时文件权限问题\n",
      "URL Error:  [WinError 10061] 由于目标计算机积极拒绝，无法连接。 http://farm8.staticflickr.com/7035/6741746517_19fae46c8c_z.jpg\n",
      "⚠️ 无法显示图片: Image data of dtype object cannot be converted to float\n",
      "这可能是由于:\n",
      "  - 网络连接问题\n",
      "  - 图片URL已失效\n",
      "  - 临时文件权限问题\n"
     ]
    },
    {
     "data": {
      "image/png": "[encoded data removed]",
      "text/plain": [
       "<Figure size 800x600 with 1 Axes>"
      ]
     },
     "metadata": {},
     "output_type": "display_data"
    },
    {
     "name": "stderr",
     "output_type": "stream",
     "text": [
      "d:\\Documents\\CS231n\\assignment3\\.venv\\Lib\\site-packages\\IPython\\core\\pylabtools.py:170: UserWarning: Glyph 22270 (\\N{CJK UNIFIED IDEOGRAPH-56FE}) missing from font(s) DejaVu Sans.\n",
      "  fig.canvas.print_figure(bytes_io, **kw)\n",
      "d:\\Documents\\CS231n\\assignment3\\.venv\\Lib\\site-packages\\IPython\\core\\pylabtools.py:170: UserWarning: Glyph 29255 (\\N{CJK UNIFIED IDEOGRAPH-7247}) missing from font(s) DejaVu Sans.\n",
      "  fig.canvas.print_figure(bytes_io, **kw)\n",
      "d:\\Documents\\CS231n\\assignment3\\.venv\\Lib\\site-packages\\IPython\\core\\pylabtools.py:170: UserWarning: Glyph 21344 (\\N{CJK UNIFIED IDEOGRAPH-5360}) missing from font(s) DejaVu Sans.\n",
      "  fig.canvas.print_figure(bytes_io, **kw)\n",
      "d:\\Documents\\CS231n\\assignment3\\.venv\\Lib\\site-packages\\IPython\\core\\pylabtools.py:170: UserWarning: Glyph 20301 (\\N{CJK UNIFIED IDEOGRAPH-4F4D}) missing from font(s) DejaVu Sans.\n",
      "  fig.canvas.print_figure(bytes_io, **kw)\n",
      "d:\\Documents\\CS231n\\assignment3\\.venv\\Lib\\site-packages\\IPython\\core\\pylabtools.py:170: UserWarning: Glyph 31526 (\\N{CJK UNIFIED IDEOGRAPH-7B26}) missing from font(s) DejaVu Sans.\n",
      "  fig.canvas.print_figure(bytes_io, **kw)\n",
      "d:\\Documents\\CS231n\\assignment3\\.venv\\Lib\\site-packages\\IPython\\core\\pylabtools.py:170: UserWarning: Glyph 26080 (\\N{CJK UNIFIED IDEOGRAPH-65E0}) missing from font(s) DejaVu Sans.\n",
      "  fig.canvas.print_figure(bytes_io, **kw)\n",
      "d:\\Documents\\CS231n\\assignment3\\.venv\\Lib\\site-packages\\IPython\\core\\pylabtools.py:170: UserWarning: Glyph 27861 (\\N{CJK UNIFIED IDEOGRAPH-6CD5}) missing from font(s) DejaVu Sans.\n",
      "  fig.canvas.print_figure(bytes_io, **kw)\n",
      "d:\\Documents\\CS231n\\assignment3\\.venv\\Lib\\site-packages\\IPython\\core\\pylabtools.py:170: UserWarning: Glyph 21152 (\\N{CJK UNIFIED IDEOGRAPH-52A0}) missing from font(s) DejaVu Sans.\n",
      "  fig.canvas.print_figure(bytes_io, **kw)\n",
      "d:\\Documents\\CS231n\\assignment3\\.venv\\Lib\\site-packages\\IPython\\core\\pylabtools.py:170: UserWarning: Glyph 36733 (\\N{CJK UNIFIED IDEOGRAPH-8F7D}) missing from font(s) DejaVu Sans.\n",
      "  fig.canvas.print_figure(bytes_io, **kw)\n"
     ]
    },
    {
     "data": {
      "image/png": "[encoded data removed]",
      "text/plain": [
       "<Figure size 800x600 with 1 Axes>"
      ]
     },
     "metadata": {},
     "output_type": "display_data"
    },
    {
     "name": "stdout",
     "output_type": "stream",
     "text": [
      "\n",
      "图片 2:\n",
      "URL: http://farm9.staticflickr.com/8342/8238574080_7a3ce635a3_z.jpg\n",
      "标题: <START> a picture of a very busy intersection with a subway line next to it <END>\n",
      "URL Error:  [WinError 10061] 由于目标计算机积极拒绝，无法连接。 http://farm9.staticflickr.com/8342/8238574080_7a3ce635a3_z.jpg\n",
      "⚠️ 无法显示图片: Image data of dtype object cannot be converted to float\n",
      "这可能是由于:\n",
      "  - 网络连接问题\n",
      "  - 图片URL已失效\n",
      "  - 临时文件权限问题\n",
      "URL Error:  [WinError 10061] 由于目标计算机积极拒绝，无法连接。 http://farm9.staticflickr.com/8342/8238574080_7a3ce635a3_z.jpg\n",
      "⚠️ 无法显示图片: Image data of dtype object cannot be converted to float\n",
      "这可能是由于:\n",
      "  - 网络连接问题\n",
      "  - 图片URL已失效\n",
      "  - 临时文件权限问题\n"
     ]
    },
    {
     "data": {
      "image/png": "[encoded data removed]",
      "text/plain": [
       "<Figure size 800x600 with 1 Axes>"
      ]
     },
     "metadata": {},
     "output_type": "display_data"
    },
    {
     "data": {
      "image/png": "[encoded data removed]",
      "text/plain": [
       "<Figure size 800x600 with 1 Axes>"
      ]
     },
     "metadata": {},
     "output_type": "display_data"
    },
    {
     "name": "stdout",
     "output_type": "stream",
     "text": [
      "\n",
      "图片 3:\n",
      "URL: http://farm7.staticflickr.com/6080/6152737716_2c847290dc_z.jpg\n",
      "标题: <START> a couple of baseball players in the middle of the field <END>\n",
      "URL Error:  [WinError 10061] 由于目标计算机积极拒绝，无法连接。 http://farm7.staticflickr.com/6080/6152737716_2c847290dc_z.jpg\n",
      "⚠️ 无法显示图片: Image data of dtype object cannot be converted to float\n",
      "这可能是由于:\n",
      "  - 网络连接问题\n",
      "  - 图片URL已失效\n",
      "  - 临时文件权限问题\n",
      "URL Error:  [WinError 10061] 由于目标计算机积极拒绝，无法连接。 http://farm7.staticflickr.com/6080/6152737716_2c847290dc_z.jpg\n",
      "⚠️ 无法显示图片: Image data of dtype object cannot be converted to float\n",
      "这可能是由于:\n",
      "  - 网络连接问题\n",
      "  - 图片URL已失效\n",
      "  - 临时文件权限问题\n"
     ]
    },
    {
     "data": {
      "image/png": "[encoded data removed]",
      "text/plain": [
       "<Figure size 800x600 with 1 Axes>"
      ]
     },
     "metadata": {},
     "output_type": "display_data"
    },
    {
     "data": {
      "image/png": "[encoded data removed]",
      "text/plain": [
       "<Figure size 800x600 with 1 Axes>"
      ]
     },
     "metadata": {},
     "output_type": "display_data"
    }
   ],
   "source": [
    "# 检查是否有完整的COCO数据集\n",
    "if 'train_image_idxs' in data and 'train_urls' in data:\n",
    "    print(\"使用真实COCO数据集:\")\n",
    "    batch_size = 3\n",
    "    captions, features, urls = sample_coco_minibatch(data, batch_size=batch_size)\n",
    "    \n",
    "    for i, (caption, url) in enumerate(zip(captions, urls)):\n",
    "        try:\n",
    "            # 解码标题\n",
    "            caption_str = decode_captions(caption, data['idx_to_word'])\n",
    "            print(f\"\\n图片 {i+1}:\")\n",
    "            print(f\"URL: {url}\")\n",
    "            print(f\"标题: {caption_str}\")\n",
    "            \n",
    "            # 尝试显示图片\n",
    "            try:\n",
    "                img = image_from_url(url)\n",
    "                plt.figure(figsize=(8, 6))\n",
    "                plt.imshow(img)\n",
    "                plt.axis('off')\n",
    "                plt.title(caption_str, fontsize=12, wrap=True)\n",
    "                plt.show()\n",
    "            except Exception as img_error:\n",
    "                print(f\"⚠️ 无法显示图片: {img_error}\")\n",
    "                print(\"这可能是由于:\")\n",
    "                print(\"  - 网络连接问题\")\n",
    "                print(\"  - 图片URL已失效\")\n",
    "                print(\"  - 临时文件权限问题\")\n",
    "                \n",
    "                # 显示一个占位图片\n",
    "                plt.figure(figsize=(8, 6))\n",
    "                plt.text(0.5, 0.5, f'图片无法加载\\n{caption_str}', \n",
    "                        ha='center', va='center', fontsize=12, \n",
    "                        bbox=dict(boxstyle=\"round,pad=0.3\", facecolor=\"lightgray\"))\n",
    "                plt.xlim(0, 1)\n",
    "                plt.ylim(0, 1)\n",
    "                plt.axis('off')\n",
    "                plt.title('COCO图片占位符')\n",
    "                plt.show()\n",
    "                \n",
    "        except Exception as e:\n",
    "            print(f\"处理第{i+1}张图片时出错: {e}\")\n",
    "            \n",
    "else:\n",
    "    # 如果没有完整数据集，显示说明信息\n",
    "    print(\"❌ 未找到完整COCO数据集\")\n",
    "    print(\"\\n为了演示这个功能，您需要:\")\n",
    "    print(\"1. 下载完整的COCO数据集\")\n",
    "    print(\"2. 数据集包含图片URL和索引信息\")\n",
    "    print(\"\\n当前可用的数据:\")\n",
    "    for key in data.keys():\n",
    "        if isinstance(data[key], np.ndarray):\n",
    "            print(f\"  - {key}: {data[key].shape}\")\n",
    "        else:\n",
    "            print(f\"  - {key}: {type(data[key])}\")\n",
    "    \n",
    "    print(\"\\n📝 这个单元格的功能:\")\n",
    "    print(\"- 从COCO数据集随机采样一个小批量的图片和标题\")\n",
    "    print(\"- 通过URL下载图片并显示\")\n",
    "    print(\"- 解码标题并作为图片标题显示\")\n",
    "    print(\"- 帮助您了解数据集的内容和质量\")"
   ]
  },
  {
   "cell_type": "markdown",
   "metadata": {
    "colab_type": "text",
    "id": "Mh1aSisxU3UZ"
   },
   "source": [
    "# Recurrent Neural Networks\n",
    "As discussed in lecture, we will use recurrent neural network (RNN) language models for image captioning. The file `cs231n/rnn_layers.py` contains implementations of different layer types that are needed for recurrent neural networks, and the file `cs231n/classifiers/rnn.py` uses these layers to implement an image captioning model.\n",
    "\n",
    "We will first implement different types of RNN layers in `cs231n/rnn_layers.py`."
   ]
  },
  {
   "cell_type": "markdown",
   "metadata": {
    "colab_type": "text",
    "id": "ky2TgI3tU3Ub"
   },
   "source": [
    "# Vanilla RNN: step forward\n",
    "Open the file `cs231n/rnn_layers.py`. This file implements the forward and backward passes for different types of layers that are commonly used in recurrent neural networks.\n",
    "\n",
    "First implement the function `rnn_step_forward` which implements the forward pass for a single timestep of a vanilla recurrent neural network. After doing so run the following to check your implementation. You should see errors on the order of e-8 or less."
   ]
  },
  {
   "cell_type": "code",
   "execution_count": 3,
   "metadata": {
    "colab": {
     "base_uri": "https://localhost:8080/",
     "height": 35
    },
    "colab_type": "code",
    "executionInfo": {
     "elapsed": 40790,
     "status": "ok",
     "timestamp": 1562078600623,
     "user": {
      "displayName": "Rishabh Tiwari",
      "photoUrl": "",
      "userId": "18253802032434962752"
     },
     "user_tz": -330
    },
    "id": "lnab7eLLU3Uc",
    "outputId": "77443e9a-95d1-4f3d-86a9-d90a105f8b15"
   },
   "outputs": [
    {
     "name": "stdout",
     "output_type": "stream",
     "text": [
      "next_h error:  6.292421426471037e-09\n"
     ]
    }
   ],
   "source": [
    "N, D, H = 3, 10, 4\n",
    "\n",
    "x = np.linspace(-0.4, 0.7, num=N*D).reshape(N, D)\n",
    "prev_h = np.linspace(-0.2, 0.5, num=N*H).reshape(N, H)\n",
    "Wx = np.linspace(-0.1, 0.9, num=D*H).reshape(D, H)\n",
    "Wh = np.linspace(-0.3, 0.7, num=H*H).reshape(H, H)\n",
    "b = np.linspace(-0.2, 0.4, num=H)\n",
    "\n",
    "next_h, _ = rnn_step_forward(x, prev_h, Wx, Wh, b)\n",
    "expected_next_h = np.asarray([\n",
    "  [-0.58172089, -0.50182032, -0.41232771, -0.31410098],\n",
    "  [ 0.66854692,  0.79562378,  0.87755553,  0.92795967],\n",
    "  [ 0.97934501,  0.99144213,  0.99646691,  0.99854353]])\n",
    "\n",
    "print('next_h error: ', rel_error(expected_next_h, next_h))"
   ]
  },
  {
   "cell_type": "markdown",
   "metadata": {
    "colab_type": "text",
    "id": "9Ld6OVFTU3Ug"
   },
   "source": [
    "# Vanilla RNN: step backward\n",
    "In the file `cs231n/rnn_layers.py` implement the `rnn_step_backward` function. After doing so run the following to numerically gradient check your implementation. You should see errors on the order of `e-8` or less."
   ]
  },
  {
   "cell_type": "code",
   "execution_count": 4,
   "metadata": {
    "colab": {
     "base_uri": "https://localhost:8080/",
     "height": 108
    },
    "colab_type": "code",
    "executionInfo": {
     "elapsed": 39591,
     "status": "ok",
     "timestamp": 1562078600624,
     "user": {
      "displayName": "Rishabh Tiwari",
      "photoUrl": "",
      "userId": "18253802032434962752"
     },
     "user_tz": -330
    },
    "id": "RcikhhtaU3Ui",
    "outputId": "ce404a07-215a-47e0-f4ea-7ea1bce14c26"
   },
   "outputs": [
    {
     "name": "stdout",
     "output_type": "stream",
     "text": [
      "dx error:  2.7795541640745535e-10\n",
      "dprev_h error:  2.732467428030486e-10\n",
      "dWx error:  9.709219069305414e-10\n",
      "dWh error:  5.034262638717296e-10\n",
      "db error:  1.708752322503098e-11\n"
     ]
    }
   ],
   "source": [
    "from cs231n.rnn_layers import rnn_step_forward, rnn_step_backward\n",
    "np.random.seed(231)\n",
    "N, D, H = 4, 5, 6\n",
    "x = np.random.randn(N, D)\n",
    "h = np.random.randn(N, H)\n",
    "Wx = np.random.randn(D, H)\n",
    "Wh = np.random.randn(H, H)\n",
    "b = np.random.randn(H)\n",
    "\n",
    "out, cache = rnn_step_forward(x, h, Wx, Wh, b)\n",
    "\n",
    "dnext_h = np.random.randn(*out.shape)\n",
    "\n",
    "fx = lambda x: rnn_step_forward(x, h, Wx, Wh, b)[0]\n",
    "fh = lambda prev_h: rnn_step_forward(x, h, Wx, Wh, b)[0]\n",
    "fWx = lambda Wx: rnn_step_forward(x, h, Wx, Wh, b)[0]\n",
    "fWh = lambda Wh: rnn_step_forward(x, h, Wx, Wh, b)[0]\n",
    "fb = lambda b: rnn_step_forward(x, h, Wx, Wh, b)[0]\n",
    "\n",
    "dx_num = eval_numerical_gradient_array(fx, x, dnext_h)\n",
    "dprev_h_num = eval_numerical_gradient_array(fh, h, dnext_h)\n",
    "dWx_num = eval_numerical_gradient_array(fWx, Wx, dnext_h)\n",
    "dWh_num = eval_numerical_gradient_array(fWh, Wh, dnext_h)\n",
    "db_num = eval_numerical_gradient_array(fb, b, dnext_h)\n",
    "\n",
    "dx, dprev_h, dWx, dWh, db = rnn_step_backward(dnext_h, cache)\n",
    "\n",
    "print('dx error: ', rel_error(dx_num, dx))\n",
    "print('dprev_h error: ', rel_error(dprev_h_num, dprev_h))\n",
    "print('dWx error: ', rel_error(dWx_num, dWx))\n",
    "print('dWh error: ', rel_error(dWh_num, dWh))\n",
    "print('db error: ', rel_error(db_num, db))"
   ]
  },
  {
   "cell_type": "markdown",
   "metadata": {
    "colab_type": "text",
    "id": "A9iTv7dZU3Um"
   },
   "source": [
    "# Vanilla RNN: forward\n",
    "Now that you have implemented the forward and backward passes for a single timestep of a vanilla RNN, you will combine these pieces to implement a RNN that processes an entire sequence of data.\n",
    "\n",
    "In the file `cs231n/rnn_layers.py`, implement the function `rnn_forward`. This should be implemented using the `rnn_step_forward` function that you defined above. After doing so run the following to check your implementation. You should see errors on the order of `e-7` or less."
   ]
  },
  {
   "cell_type": "code",
   "execution_count": 5,
   "metadata": {
    "colab": {
     "base_uri": "https://localhost:8080/",
     "height": 35
    },
    "colab_type": "code",
    "executionInfo": {
     "elapsed": 38600,
     "status": "ok",
     "timestamp": 1562078600626,
     "user": {
      "displayName": "Rishabh Tiwari",
      "photoUrl": "",
      "userId": "18253802032434962752"
     },
     "user_tz": -330
    },
    "id": "fl2frH7qU3Un",
    "outputId": "76740f21-3e4b-4801-eb36-6a4db5f3b798"
   },
   "outputs": [
    {
     "name": "stdout",
     "output_type": "stream",
     "text": [
      "h error:  7.728466151011529e-08\n"
     ]
    }
   ],
   "source": [
    "N, T, D, H = 2, 3, 4, 5\n",
    "\n",
    "x = np.linspace(-0.1, 0.3, num=N*T*D).reshape(N, T, D)\n",
    "h0 = np.linspace(-0.3, 0.1, num=N*H).reshape(N, H)\n",
    "Wx = np.linspace(-0.2, 0.4, num=D*H).reshape(D, H)\n",
    "Wh = np.linspace(-0.4, 0.1, num=H*H).reshape(H, H)\n",
    "b = np.linspace(-0.7, 0.1, num=H)\n",
    "\n",
    "h, _ = rnn_forward(x, h0, Wx, Wh, b)\n",
    "expected_h = np.asarray([\n",
    "  [\n",
    "    [-0.42070749, -0.27279261, -0.11074945,  0.05740409,  0.22236251],\n",
    "    [-0.39525808, -0.22554661, -0.0409454,   0.14649412,  0.32397316],\n",
    "    [-0.42305111, -0.24223728, -0.04287027,  0.15997045,  0.35014525],\n",
    "  ],\n",
    "  [\n",
    "    [-0.55857474, -0.39065825, -0.19198182,  0.02378408,  0.23735671],\n",
    "    [-0.27150199, -0.07088804,  0.13562939,  0.33099728,  0.50158768],\n",
    "    [-0.51014825, -0.30524429, -0.06755202,  0.17806392,  0.40333043]]])\n",
    "print('h error: ', rel_error(expected_h, h))"
   ]
  },
  {
   "cell_type": "markdown",
   "metadata": {
    "colab_type": "text",
    "id": "8ZhSJ7xHU3Us"
   },
   "source": [
    "# Vanilla RNN: backward\n",
    "In the file `cs231n/rnn_layers.py`, implement the backward pass for a vanilla RNN in the function `rnn_backward`. This should run back-propagation over the entire sequence, making calls to the `rnn_step_backward` function that you defined earlier. You should see errors on the order of e-6 or less."
   ]
  },
  {
   "cell_type": "code",
   "execution_count": 6,
   "metadata": {
    "colab": {
     "base_uri": "https://localhost:8080/",
     "height": 108
    },
    "colab_type": "code",
    "executionInfo": {
     "elapsed": 37875,
     "status": "ok",
     "timestamp": 1562078600627,
     "user": {
      "displayName": "Rishabh Tiwari",
      "photoUrl": "",
      "userId": "18253802032434962752"
     },
     "user_tz": -330
    },
    "id": "UXJdwpakU3Uu",
    "outputId": "3c8da638-e378-4c45-bec8-53c9b8c9928a"
   },
   "outputs": [
    {
     "name": "stdout",
     "output_type": "stream",
     "text": [
      "dx error:  1.5354482248401769e-09\n",
      "dh0 error:  3.3830821485562176e-09\n",
      "dWx error:  7.23583883274483e-09\n",
      "dWh error:  1.3049601378601992e-07\n",
      "db error:  1.5197668388626435e-10\n"
     ]
    }
   ],
   "source": [
    "np.random.seed(231)\n",
    "\n",
    "N, D, T, H = 2, 3, 10, 5\n",
    "\n",
    "x = np.random.randn(N, T, D)\n",
    "h0 = np.random.randn(N, H)\n",
    "Wx = np.random.randn(D, H)\n",
    "Wh = np.random.randn(H, H)\n",
    "b = np.random.randn(H)\n",
    "\n",
    "out, cache = rnn_forward(x, h0, Wx, Wh, b)\n",
    "\n",
    "dout = np.random.randn(*out.shape)\n",
    "\n",
    "dx, dh0, dWx, dWh, db = rnn_backward(dout, cache)\n",
    "\n",
    "fx = lambda x: rnn_forward(x, h0, Wx, Wh, b)[0]\n",
    "fh0 = lambda h0: rnn_forward(x, h0, Wx, Wh, b)[0]\n",
    "fWx = lambda Wx: rnn_forward(x, h0, Wx, Wh, b)[0]\n",
    "fWh = lambda Wh: rnn_forward(x, h0, Wx, Wh, b)[0]\n",
    "fb = lambda b: rnn_forward(x, h0, Wx, Wh, b)[0]\n",
    "\n",
    "dx_num = eval_numerical_gradient_array(fx, x, dout)\n",
    "dh0_num = eval_numerical_gradient_array(fh0, h0, dout)\n",
    "dWx_num = eval_numerical_gradient_array(fWx, Wx, dout)\n",
    "dWh_num = eval_numerical_gradient_array(fWh, Wh, dout)\n",
    "db_num = eval_numerical_gradient_array(fb, b, dout)\n",
    "\n",
    "print('dx error: ', rel_error(dx_num, dx))\n",
    "print('dh0 error: ', rel_error(dh0_num, dh0))\n",
    "print('dWx error: ', rel_error(dWx_num, dWx))\n",
    "print('dWh error: ', rel_error(dWh_num, dWh))\n",
    "print('db error: ', rel_error(db_num, db))"
   ]
  },
  {
   "cell_type": "markdown",
   "metadata": {
    "colab_type": "text",
    "id": "hmTqaA7tU3Uy"
   },
   "source": [
    "# Word embedding: forward\n",
    "In deep learning systems, we commonly represent words using vectors. Each word of the vocabulary will be associated with a vector, and these vectors will be learned jointly with the rest of the system.\n",
    "\n",
    "In the file `cs231n/rnn_layers.py`, implement the function `word_embedding_forward` to convert words (represented by integers) into vectors. Run the following to check your implementation. You should see an error on the order of `e-8` or less."
   ]
  },
  {
   "cell_type": "code",
   "execution_count": 7,
   "metadata": {
    "colab": {
     "base_uri": "https://localhost:8080/",
     "height": 35
    },
    "colab_type": "code",
    "executionInfo": {
     "elapsed": 37104,
     "status": "ok",
     "timestamp": 1562078600630,
     "user": {
      "displayName": "Rishabh Tiwari",
      "photoUrl": "",
      "userId": "18253802032434962752"
     },
     "user_tz": -330
    },
    "id": "_yArVPN6U3Uz",
    "outputId": "5d760c98-abc4-48e8-a8a8-f12e97e62744"
   },
   "outputs": [
    {
     "name": "stdout",
     "output_type": "stream",
     "text": [
      "out error:  1.0000000094736443e-08\n"
     ]
    }
   ],
   "source": [
    "N, T, V, D = 2, 4, 5, 3\n",
    "\n",
    "x = np.asarray([[0, 3, 1, 2], [2, 1, 0, 3]])\n",
    "W = np.linspace(0, 1, num=V*D).reshape(V, D)\n",
    "\n",
    "out, _ = word_embedding_forward(x, W)\n",
    "expected_out = np.asarray([\n",
    " [[ 0.,          0.07142857,  0.14285714],\n",
    "  [ 0.64285714,  0.71428571,  0.78571429],\n",
    "  [ 0.21428571,  0.28571429,  0.35714286],\n",
    "  [ 0.42857143,  0.5,         0.57142857]],\n",
    " [[ 0.42857143,  0.5,         0.57142857],\n",
    "  [ 0.21428571,  0.28571429,  0.35714286],\n",
    "  [ 0.,          0.07142857,  0.14285714],\n",
    "  [ 0.64285714,  0.71428571,  0.78571429]]])\n",
    "\n",
    "print('out error: ', rel_error(expected_out, out))"
   ]
  },
  {
   "cell_type": "markdown",
   "metadata": {
    "colab_type": "text",
    "id": "YW1JCMnKU3U3"
   },
   "source": [
    "# Word embedding: backward\n",
    "Implement the backward pass for the word embedding function in the function `word_embedding_backward`. After doing so run the following to numerically gradient check your implementation. You should see an error on the order of `e-11` or less."
   ]
  },
  {
   "cell_type": "code",
   "execution_count": 8,
   "metadata": {
    "colab": {
     "base_uri": "https://localhost:8080/",
     "height": 35
    },
    "colab_type": "code",
    "executionInfo": {
     "elapsed": 36507,
     "status": "ok",
     "timestamp": 1562078600632,
     "user": {
      "displayName": "Rishabh Tiwari",
      "photoUrl": "",
      "userId": "18253802032434962752"
     },
     "user_tz": -330
    },
    "id": "gybyh3EqU3U4",
    "outputId": "5de8a386-29c6-48e8-8ca3-832f1ac21dbd"
   },
   "outputs": [
    {
     "name": "stdout",
     "output_type": "stream",
     "text": [
      "dW error:  3.2774595693100364e-12\n"
     ]
    }
   ],
   "source": [
    "np.random.seed(231)\n",
    "\n",
    "N, T, V, D = 50, 3, 5, 6\n",
    "x = np.random.randint(V, size=(N, T))\n",
    "W = np.random.randn(V, D)\n",
    "\n",
    "out, cache = word_embedding_forward(x, W)\n",
    "dout = np.random.randn(*out.shape)\n",
    "dW = word_embedding_backward(dout, cache)\n",
    "\n",
    "f = lambda W: word_embedding_forward(x, W)[0]\n",
    "dW_num = eval_numerical_gradient_array(f, W, dout)\n",
    "\n",
    "print('dW error: ', rel_error(dW, dW_num))"
   ]
  },
  {
   "cell_type": "markdown",
   "metadata": {
    "colab_type": "text",
    "id": "TcnR9C5IU3U8",
    "tags": []
   },
   "source": [
    "# Temporal Affine layer\n",
    "At every timestep we use an affine function to transform the RNN hidden vector at that timestep into scores for each word in the vocabulary. Because this is very similar to the affine layer that you implemented in assignment 2, we have provided this function for you in the `temporal_affine_forward` and `temporal_affine_backward` functions in the file `cs231n/rnn_layers.py`. Run the following to perform numeric gradient checking on the implementation. You should see errors on the order of e-9 or less."
   ]
  },
  {
   "cell_type": "code",
   "execution_count": 9,
   "metadata": {
    "colab": {
     "base_uri": "https://localhost:8080/",
     "height": 72
    },
    "colab_type": "code",
    "executionInfo": {
     "elapsed": 36410,
     "status": "ok",
     "timestamp": 1562078600638,
     "user": {
      "displayName": "Rishabh Tiwari",
      "photoUrl": "",
      "userId": "18253802032434962752"
     },
     "user_tz": -330
    },
    "id": "YUmAaIDdU3U9",
    "outputId": "c4b68c7f-d227-4303-cace-b5fe1b45e715",
    "tags": []
   },
   "outputs": [
    {
     "name": "stdout",
     "output_type": "stream",
     "text": [
      "dx error:  2.9215945034030545e-10\n",
      "dw error:  1.5772088618663602e-10\n",
      "db error:  3.252200556967514e-11\n"
     ]
    }
   ],
   "source": [
    "np.random.seed(231)\n",
    "\n",
    "# Gradient check for temporal affine layer\n",
    "N, T, D, M = 2, 3, 4, 5\n",
    "x = np.random.randn(N, T, D)\n",
    "w = np.random.randn(D, M)\n",
    "b = np.random.randn(M)\n",
    "\n",
    "out, cache = temporal_affine_forward(x, w, b)\n",
    "\n",
    "dout = np.random.randn(*out.shape)\n",
    "\n",
    "fx = lambda x: temporal_affine_forward(x, w, b)[0]\n",
    "fw = lambda w: temporal_affine_forward(x, w, b)[0]\n",
    "fb = lambda b: temporal_affine_forward(x, w, b)[0]\n",
    "\n",
    "dx_num = eval_numerical_gradient_array(fx, x, dout)\n",
    "dw_num = eval_numerical_gradient_array(fw, w, dout)\n",
    "db_num = eval_numerical_gradient_array(fb, b, dout)\n",
    "\n",
    "dx, dw, db = temporal_affine_backward(dout, cache)\n",
    "\n",
    "print('dx error: ', rel_error(dx_num, dx))\n",
    "print('dw error: ', rel_error(dw_num, dw))\n",
    "print('db error: ', rel_error(db_num, db))"
   ]
  },
  {
   "cell_type": "markdown",
   "metadata": {
    "colab_type": "text",
    "id": "YVb42t1gU3VA",
    "tags": []
   },
   "source": [
    "# Temporal Softmax loss\n",
    "In an RNN language model, at every timestep we produce a score for each word in the vocabulary. We know the ground-truth word at each timestep, so we use a softmax loss function to compute loss and gradient at each timestep. We sum the losses over time and average them over the minibatch.\n",
    "\n",
    "However there is one wrinkle: since we operate over minibatches and different captions may have different lengths, we append `<NULL>` tokens to the end of each caption so they all have the same length. We don't want these `<NULL>` tokens to count toward the loss or gradient, so in addition to scores and ground-truth labels our loss function also accepts a `mask` array that tells it which elements of the scores count towards the loss.\n",
    "\n",
    "Since this is very similar to the softmax loss function you implemented in assignment 1, we have implemented this loss function for you; look at the `temporal_softmax_loss` function in the file `cs231n/rnn_layers.py`.\n",
    "\n",
    "Run the following cell to sanity check the loss and perform numeric gradient checking on the function. You should see an error for dx on the order of e-7 or less."
   ]
  },
  {
   "cell_type": "code",
   "execution_count": 10,
   "metadata": {
    "colab": {
     "base_uri": "https://localhost:8080/",
     "height": 90
    },
    "colab_type": "code",
    "executionInfo": {
     "elapsed": 36291,
     "status": "ok",
     "timestamp": 1562078600641,
     "user": {
      "displayName": "Rishabh Tiwari",
      "photoUrl": "",
      "userId": "18253802032434962752"
     },
     "user_tz": -330
    },
    "id": "HbFESojkU3VB",
    "outputId": "0820a385-0be3-4ebc-8a65-0b465200fb7b",
    "tags": []
   },
   "outputs": [
    {
     "name": "stdout",
     "output_type": "stream",
     "text": [
      "2.3027781774290146\n",
      "23.025985953127226\n",
      "2.264361179029339\n",
      "dx error:  2.583585303524283e-08\n"
     ]
    }
   ],
   "source": [
    "# Sanity check for temporal softmax loss\n",
    "from cs231n.rnn_layers import temporal_softmax_loss\n",
    "\n",
    "N, T, V = 100, 1, 10\n",
    "\n",
    "def check_loss(N, T, V, p):\n",
    "    x = 0.001 * np.random.randn(N, T, V)\n",
    "    y = np.random.randint(V, size=(N, T))\n",
    "    mask = np.random.rand(N, T) <= p\n",
    "    print(temporal_softmax_loss(x, y, mask)[0])\n",
    "  \n",
    "check_loss(100, 1, 10, 1.0)   # Should be about 2.3\n",
    "check_loss(100, 10, 10, 1.0)  # Should be about 23\n",
    "check_loss(5000, 10, 10, 0.1) # Should be about 2.3\n",
    "\n",
    "# Gradient check for temporal softmax loss\n",
    "N, T, V = 7, 8, 9\n",
    "\n",
    "x = np.random.randn(N, T, V)\n",
    "y = np.random.randint(V, size=(N, T))\n",
    "mask = (np.random.rand(N, T) > 0.5)\n",
    "\n",
    "loss, dx = temporal_softmax_loss(x, y, mask, verbose=False)\n",
    "\n",
    "dx_num = eval_numerical_gradient(lambda x: temporal_softmax_loss(x, y, mask)[0], x, verbose=False)\n",
    "\n",
    "print('dx error: ', rel_error(dx, dx_num))"
   ]
  },
  {
   "cell_type": "markdown",
   "metadata": {
    "colab_type": "text",
    "id": "yRvaPVBpU3VF"
   },
   "source": [
    "# RNN for image captioning\n",
    "Now that you have implemented the necessary layers, you can combine them to build an image captioning model. Open the file `cs231n/classifiers/rnn.py` and look at the `CaptioningRNN` class.\n",
    "\n",
    "Implement the forward and backward pass of the model in the `loss` function. For now you only need to implement the case where `cell_type='rnn'` for vanialla RNNs; you will implement the LSTM case later. After doing so, run the following to check your forward pass using a small test case; you should see error on the order of `e-10` or less."
   ]
  },
  {
   "cell_type": "code",
   "execution_count": 11,
   "metadata": {
    "colab": {
     "base_uri": "https://localhost:8080/",
     "height": 72
    },
    "colab_type": "code",
    "executionInfo": {
     "elapsed": 36175,
     "status": "ok",
     "timestamp": 1562078600642,
     "user": {
      "displayName": "Rishabh Tiwari",
      "photoUrl": "",
      "userId": "18253802032434962752"
     },
     "user_tz": -330
    },
    "id": "CP0E0gXiU3VH",
    "outputId": "d7aaef39-133d-405f-ca74-ea47c5069dbd",
    "scrolled": false
   },
   "outputs": [
    {
     "name": "stdout",
     "output_type": "stream",
     "text": [
      "loss:  9.832355910027392\n",
      "expected loss:  9.83235591003\n",
      "difference:  2.6076918402395677e-12\n"
     ]
    }
   ],
   "source": [
    "N, D, W, H = 10, 20, 30, 40\n",
    "word_to_idx = {'<NULL>': 0, 'cat': 2, 'dog': 3}\n",
    "V = len(word_to_idx)\n",
    "T = 13\n",
    "\n",
    "model = CaptioningRNN(word_to_idx,\n",
    "          input_dim=D,\n",
    "          wordvec_dim=W,\n",
    "          hidden_dim=H,\n",
    "          cell_type='rnn',\n",
    "          dtype=np.float64)\n",
    "\n",
    "# Set all model parameters to fixed values\n",
    "for k, v in model.params.items():\n",
    "    model.params[k] = np.linspace(-1.4, 1.3, num=v.size).reshape(*v.shape)\n",
    "\n",
    "features = np.linspace(-1.5, 0.3, num=(N * D)).reshape(N, D)\n",
    "captions = (np.arange(N * T) % V).reshape(N, T)\n",
    "\n",
    "loss, grads = model.loss(features, captions)\n",
    "expected_loss = 9.83235591003\n",
    "\n",
    "print('loss: ', loss)\n",
    "print('expected loss: ', expected_loss)\n",
    "print('difference: ', abs(loss - expected_loss))"
   ]
  },
  {
   "cell_type": "markdown",
   "metadata": {
    "colab_type": "text",
    "id": "WIikz0DCU3VK"
   },
   "source": [
    "Run the following cell to perform numeric gradient checking on the `CaptioningRNN` class; you should see errors around the order of `e-6` or less."
   ]
  },
  {
   "cell_type": "code",
   "execution_count": 21,
   "metadata": {
    "colab": {
     "base_uri": "https://localhost:8080/",
     "height": 163
    },
    "colab_type": "code",
    "executionInfo": {
     "elapsed": 36042,
     "status": "ok",
     "timestamp": 1562078600644,
     "user": {
      "displayName": "Rishabh Tiwari",
      "photoUrl": "",
      "userId": "18253802032434962752"
     },
     "user_tz": -330
    },
    "id": "riQX1AeFU3VM",
    "outputId": "df919145-1699-48e4-cf88-63c8132066b0"
   },
   "outputs": [
    {
     "name": "stdout",
     "output_type": "stream",
     "text": [
      "W_embed relative error: 2.331071e-09\n",
      "W_proj relative error: 9.974425e-09\n",
      "W_vocab relative error: 4.274378e-09\n",
      "Wh relative error: 5.557957e-09\n",
      "Wx relative error: 8.455229e-07\n",
      "b relative error: 9.727212e-10\n",
      "b_proj relative error: 1.934807e-08\n",
      "b_vocab relative error: 7.087090e-11\n"
     ]
    }
   ],
   "source": [
    "np.random.seed(231)\n",
    "\n",
    "batch_size = 2\n",
    "timesteps = 3\n",
    "input_dim = 4\n",
    "wordvec_dim = 5\n",
    "hidden_dim = 6\n",
    "word_to_idx = {'<NULL>': 0, 'cat': 2, 'dog': 3}\n",
    "vocab_size = len(word_to_idx)\n",
    "\n",
    "captions = np.random.randint(vocab_size, size=(batch_size, timesteps))\n",
    "features = np.random.randn(batch_size, input_dim)\n",
    "\n",
    "model = CaptioningRNN(word_to_idx,\n",
    "          input_dim=input_dim,\n",
    "          wordvec_dim=wordvec_dim,\n",
    "          hidden_dim=hidden_dim,\n",
    "          cell_type='rnn',\n",
    "          dtype=np.float64,\n",
    "        )\n",
    "\n",
    "loss, grads = model.loss(features, captions)\n",
    "\n",
    "for param_name in sorted(grads):\n",
    "    f = lambda _: model.loss(features, captions)[0]\n",
    "    param_grad_num = eval_numerical_gradient(f, model.params[param_name], verbose=False, h=1e-6)\n",
    "    e = rel_error(param_grad_num, grads[param_name])\n",
    "    print('%s relative error: %e' % (param_name, e))"
   ]
  },
  {
   "cell_type": "markdown",
   "metadata": {
    "colab_type": "text",
    "id": "ZgU2JgeyU3VQ"
   },
   "source": [
    "# Overfit small data\n",
    "Similar to the `Solver` class that we used to train image classification models on the previous assignment, on this assignment we use a `CaptioningSolver` class to train image captioning models. Open the file `cs231n/captioning_solver.py` and read through the `CaptioningSolver` class; it should look very familiar.\n",
    "\n",
    "Once you have familiarized yourself with the API, run the following to make sure your model overfits a small sample of 100 training examples. You should see a final loss of less than 0.1."
   ]
  },
  {
   "cell_type": "code",
   "execution_count": 13,
   "metadata": {
    "colab": {
     "base_uri": "https://localhost:8080/",
     "height": 695
    },
    "colab_type": "code",
    "executionInfo": {
     "elapsed": 55028,
     "status": "ok",
     "timestamp": 1562078619770,
     "user": {
      "displayName": "Rishabh Tiwari",
      "photoUrl": "",
      "userId": "18253802032434962752"
     },
     "user_tz": -330
    },
    "id": "JdunWg-sU3VR",
    "outputId": "a2e8fe3e-2732-46c1-ce89-79c8c05a911c"
   },
   "outputs": [
    {
     "name": "stdout",
     "output_type": "stream",
     "text": [
      "(Iteration 1 / 100) loss: 76.913487\n",
      "(Iteration 11 / 100) loss: 21.063197\n",
      "(Iteration 11 / 100) loss: 21.063197\n",
      "(Iteration 21 / 100) loss: 4.016257\n",
      "(Iteration 21 / 100) loss: 4.016257\n",
      "(Iteration 31 / 100) loss: 0.567095\n",
      "(Iteration 31 / 100) loss: 0.567095\n",
      "(Iteration 41 / 100) loss: 0.239448\n",
      "(Iteration 41 / 100) loss: 0.239448\n",
      "(Iteration 51 / 100) loss: 0.162026\n",
      "(Iteration 51 / 100) loss: 0.162026\n",
      "(Iteration 61 / 100) loss: 0.111545\n",
      "(Iteration 61 / 100) loss: 0.111545\n",
      "(Iteration 71 / 100) loss: 0.097577\n",
      "(Iteration 71 / 100) loss: 0.097577\n",
      "(Iteration 81 / 100) loss: 0.099100\n",
      "(Iteration 81 / 100) loss: 0.099100\n",
      "(Iteration 91 / 100) loss: 0.073983\n",
      "(Iteration 91 / 100) loss: 0.073983\n"
     ]
    },
    {
     "data": {
      "image/png": "[encoded data removed]",
      "text/plain": [
       "<Figure size 1000x800 with 1 Axes>"
      ]
     },
     "metadata": {},
     "output_type": "display_data"
    }
   ],
   "source": [
    "np.random.seed(231)\n",
    "\n",
    "small_data = load_coco_data(max_train=50)\n",
    "\n",
    "small_rnn_model = CaptioningRNN(\n",
    "          cell_type='rnn',\n",
    "          word_to_idx=data['word_to_idx'],\n",
    "          input_dim=data['train_features'].shape[1],\n",
    "          hidden_dim=512,\n",
    "          wordvec_dim=256,\n",
    "        )\n",
    "\n",
    "small_rnn_solver = CaptioningSolver(small_rnn_model, small_data,\n",
    "           update_rule='adam',\n",
    "           num_epochs=50,\n",
    "           batch_size=25,\n",
    "           optim_config={\n",
    "             'learning_rate': 5e-3,\n",
    "           },\n",
    "           lr_decay=0.95,\n",
    "           verbose=True, print_every=10,\n",
    "         )\n",
    "\n",
    "small_rnn_solver.train()\n",
    "\n",
    "# Plot the training losses\n",
    "plt.plot(small_rnn_solver.loss_history)\n",
    "plt.xlabel('Iteration')\n",
    "plt.ylabel('Loss')\n",
    "plt.title('Training loss history')\n",
    "plt.show()"
   ]
  },
  {
   "cell_type": "markdown",
   "metadata": {
    "colab_type": "text",
    "id": "I1pVVf1wU3VX"
   },
   "source": [
    "# Test-time sampling\n",
    "Unlike classification models, image captioning models behave very differently at training time and at test time. At training time, we have access to the ground-truth caption, so we feed ground-truth words as input to the RNN at each timestep. At test time, we sample from the distribution over the vocabulary at each timestep, and feed the sample as input to the RNN at the next timestep.\n",
    "\n",
    "In the file `cs231n/classifiers/rnn.py`, implement the `sample` method for test-time sampling. After doing so, run the following to sample from your overfitted model on both training and validation data. The samples on training data should be very good; the samples on validation data probably won't make sense."
   ]
  },
  {
   "cell_type": "code",
   "execution_count": 14,
   "metadata": {
    "colab": {
     "base_uri": "https://localhost:8080/",
     "height": 1000
    },
    "colab_type": "code",
    "executionInfo": {
     "elapsed": 54897,
     "status": "ok",
     "timestamp": 1562078619775,
     "user": {
      "displayName": "Rishabh Tiwari",
      "photoUrl": "",
      "userId": "18253802032434962752"
     },
     "user_tz": -330
    },
    "id": "Fe3np20IU3Va",
    "outputId": "561f0981-6efc-4725-c635-fb1995223846",
    "scrolled": false
   },
   "outputs": [
    {
     "data": {
      "image/png": "[encoded data removed]",
      "text/plain": [
       "<Figure size 1000x800 with 1 Axes>"
      ]
     },
     "metadata": {},
     "output_type": "display_data"
    },
    {
     "data": {
      "image/png": "[encoded data removed]",
      "text/plain": [
       "<Figure size 1000x800 with 1 Axes>"
      ]
     },
     "metadata": {},
     "output_type": "display_data"
    },
    {
     "data": {
      "image/png": "[encoded data removed]",
      "text/plain": [
       "<Figure size 1000x800 with 1 Axes>"
      ]
     },
     "metadata": {},
     "output_type": "display_data"
    },
    {
     "data": {
      "image/png": "[encoded data removed]",
      "text/plain": [
       "<Figure size 1000x800 with 1 Axes>"
      ]
     },
     "metadata": {},
     "output_type": "display_data"
    }
   ],
   "source": [
    "for split in ['train', 'val']:\n",
    "    minibatch = sample_coco_minibatch(small_data, split=split, batch_size=2)\n",
    "    gt_captions, features, urls = minibatch\n",
    "    gt_captions = decode_captions(gt_captions, data['idx_to_word'])\n",
    "\n",
    "    sample_captions = small_rnn_model.sample(features)\n",
    "    sample_captions = decode_captions(sample_captions, data['idx_to_word'])\n",
    "\n",
    "    for gt_caption, sample_caption, url in zip(gt_captions, sample_captions, urls):\n",
    "        # plt.imshow(image_from_url(url))\n",
    "        plt.title('%s\\n%s\\nGT:%s' % (split, sample_caption, gt_caption))\n",
    "        plt.axis('off')\n",
    "        plt.show()"
   ]
  },
  {
   "cell_type": "markdown",
   "metadata": {
    "colab_type": "text",
    "id": "_hn8YoiOU3Vk",
    "tags": [
     "pdf-inline"
    ]
   },
   "source": [
    "# INLINE QUESTION 1\n",
    "\n",
    "In our current image captioning setup, our RNN language model produces a word at every timestep as its output. However, an alternate way to pose the problem is to train the network to operate over _characters_ (e.g. 'a', 'b', etc.) as opposed to words, so that at it every timestep, it receives the previous character as input and tries to predict the next character in the sequence. For example, the network might generate a caption like\n",
    "\n",
    "'A', ' ', 'c', 'a', 't', ' ', 'o', 'n', ' ', 'a', ' ', 'b', 'e', 'd'\n",
    "\n",
    "Can you describe one advantage of an image-captioning model that uses a character-level RNN? Can you also describe one disadvantage? HINT: there are several valid answers, but it might be useful to compare the parameter space of word-level and character-level models.\n",
    "\n",
    "**Your Answer:** \n",
    "\n"
   ]
  },
  {
   "cell_type": "code",
   "execution_count": 0,
   "metadata": {
    "colab": {},
    "colab_type": "code",
    "id": "CPDHIcXHI1IW"
   },
   "outputs": [],
   "source": []
  }
 ],
 "metadata": {
  "accelerator": "GPU",
  "colab": {
   "collapsed_sections": [],
   "name": "RNN_Captioning.ipynb",
   "provenance": [],
   "version": "0.3.2"
  },
  "kernelspec": {
   "display_name": ".venv",
   "language": "python",
   "name": "python3"
  },
  "language_info": {
   "codemirror_mode": {
    "name": "ipython",
    "version": 3
   },
   "file_extension": ".py",
   "mimetype": "text/x-python",
   "name": "python",
   "nbconvert_exporter": "python",
   "pygments_lexer": "ipython3",
   "version": "3.11.9"
  }
 },
 "nbformat": 4,
 "nbformat_minor": 0
}
