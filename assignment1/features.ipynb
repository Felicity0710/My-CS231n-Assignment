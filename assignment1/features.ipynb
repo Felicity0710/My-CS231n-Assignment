{
 "cells": [
  {
   "cell_type": "markdown",
   "metadata": {
    "tags": [
     "pdf-title"
    ]
   },
   "source": [
    "# Image features exercise\n",
    "*Complete and hand in this completed worksheet (including its outputs and any supporting code outside of the worksheet) with your assignment submission. For more details see the [assignments page](http://vision.stanford.edu/teaching/cs231n/assignments.html) on the course website.*\n",
    "\n",
    "We have seen that we can achieve reasonable performance on an image classification task by training a linear classifier on the pixels of the input image. In this exercise we will show that we can improve our classification performance by training linear classifiers not on raw pixels but on features that are computed from the raw pixels.\n",
    "\n",
    "All of your work for this exercise will be done in this notebook."
   ]
  },
  {
   "cell_type": "code",
   "execution_count": 1,
   "metadata": {
    "tags": [
     "pdf-ignore"
    ]
   },
   "outputs": [],
   "source": [
    "import random\n",
    "import numpy as np\n",
    "from cs231n.data_utils import load_CIFAR10\n",
    "import matplotlib.pyplot as plt\n",
    "\n",
    "\n",
    "%matplotlib inline\n",
    "plt.rcParams['figure.figsize'] = (10.0, 8.0) # set default size of plots\n",
    "plt.rcParams['image.interpolation'] = 'nearest'\n",
    "plt.rcParams['image.cmap'] = 'gray'\n",
    "\n",
    "# for auto-reloading extenrnal modules\n",
    "# see http://stackoverflow.com/questions/1907993/autoreload-of-modules-in-ipython\n",
    "%load_ext autoreload\n",
    "%autoreload 2"
   ]
  },
  {
   "cell_type": "markdown",
   "metadata": {
    "tags": [
     "pdf-ignore"
    ]
   },
   "source": [
    "## Load data\n",
    "Similar to previous exercises, we will load CIFAR-10 data from disk."
   ]
  },
  {
   "cell_type": "code",
   "execution_count": 2,
   "metadata": {
    "tags": [
     "pdf-ignore"
    ]
   },
   "outputs": [],
   "source": [
    "from cs231n.features import color_histogram_hsv, hog_feature\n",
    "\n",
    "def get_CIFAR10_data(num_training=49000, num_validation=1000, num_test=1000):\n",
    "    # Load the raw CIFAR-10 data\n",
    "    cifar10_dir = 'cs231n/datasets/cifar-10-batches-py'\n",
    "\n",
    "    # Cleaning up variables to prevent loading data multiple times (which may cause memory issue)\n",
    "    try:\n",
    "       del X_train, y_train\n",
    "       del X_test, y_test\n",
    "       print('Clear previously loaded data.')\n",
    "    except:\n",
    "       pass\n",
    "\n",
    "    X_train, y_train, X_test, y_test = load_CIFAR10(cifar10_dir)\n",
    "    \n",
    "    # Subsample the data\n",
    "    mask = list(range(num_training, num_training + num_validation))\n",
    "    X_val = X_train[mask]\n",
    "    y_val = y_train[mask]\n",
    "    mask = list(range(num_training))\n",
    "    X_train = X_train[mask]\n",
    "    y_train = y_train[mask]\n",
    "    mask = list(range(num_test))\n",
    "    X_test = X_test[mask]\n",
    "    y_test = y_test[mask]\n",
    "    \n",
    "    return X_train, y_train, X_val, y_val, X_test, y_test\n",
    "\n",
    "X_train, y_train, X_val, y_val, X_test, y_test = get_CIFAR10_data()"
   ]
  },
  {
   "cell_type": "markdown",
   "metadata": {
    "tags": [
     "pdf-ignore"
    ]
   },
   "source": [
    "## Extract Features\n",
    "For each image we will compute a Histogram of Oriented\n",
    "Gradients (HOG) as well as a color histogram using the hue channel in HSV\n",
    "color space. We form our final feature vector for each image by concatenating\n",
    "the HOG and color histogram feature vectors.\n",
    "\n",
    "Roughly speaking, HOG should capture the texture of the image while ignoring\n",
    "color information, and the color histogram represents the color of the input\n",
    "image while ignoring texture. As a result, we expect that using both together\n",
    "ought to work better than using either alone. Verifying this assumption would\n",
    "be a good thing to try for your own interest.\n",
    "\n",
    "The `hog_feature` and `color_histogram_hsv` functions both operate on a single\n",
    "image and return a feature vector for that image. The extract_features\n",
    "function takes a set of images and a list of feature functions and evaluates\n",
    "each feature function on each image, storing the results in a matrix where\n",
    "each column is the concatenation of all feature vectors for a single image."
   ]
  },
  {
   "cell_type": "code",
   "execution_count": 3,
   "metadata": {
    "scrolled": true,
    "tags": [
     "pdf-ignore"
    ]
   },
   "outputs": [
    {
     "name": "stdout",
     "output_type": "stream",
     "text": [
      "Done extracting features for 1000 / 49000 images\n",
      "Done extracting features for 2000 / 49000 images\n",
      "Done extracting features for 3000 / 49000 images\n",
      "Done extracting features for 4000 / 49000 images\n",
      "Done extracting features for 5000 / 49000 images\n",
      "Done extracting features for 6000 / 49000 images\n",
      "Done extracting features for 7000 / 49000 images\n",
      "Done extracting features for 8000 / 49000 images\n",
      "Done extracting features for 9000 / 49000 images\n",
      "Done extracting features for 10000 / 49000 images\n",
      "Done extracting features for 11000 / 49000 images\n",
      "Done extracting features for 12000 / 49000 images\n",
      "Done extracting features for 13000 / 49000 images\n",
      "Done extracting features for 14000 / 49000 images\n",
      "Done extracting features for 15000 / 49000 images\n",
      "Done extracting features for 16000 / 49000 images\n",
      "Done extracting features for 17000 / 49000 images\n",
      "Done extracting features for 18000 / 49000 images\n",
      "Done extracting features for 19000 / 49000 images\n",
      "Done extracting features for 20000 / 49000 images\n",
      "Done extracting features for 21000 / 49000 images\n",
      "Done extracting features for 22000 / 49000 images\n",
      "Done extracting features for 23000 / 49000 images\n",
      "Done extracting features for 24000 / 49000 images\n",
      "Done extracting features for 25000 / 49000 images\n",
      "Done extracting features for 26000 / 49000 images\n",
      "Done extracting features for 27000 / 49000 images\n",
      "Done extracting features for 28000 / 49000 images\n",
      "Done extracting features for 29000 / 49000 images\n",
      "Done extracting features for 30000 / 49000 images\n",
      "Done extracting features for 31000 / 49000 images\n",
      "Done extracting features for 32000 / 49000 images\n",
      "Done extracting features for 33000 / 49000 images\n",
      "Done extracting features for 34000 / 49000 images\n",
      "Done extracting features for 35000 / 49000 images\n",
      "Done extracting features for 36000 / 49000 images\n",
      "Done extracting features for 37000 / 49000 images\n",
      "Done extracting features for 38000 / 49000 images\n",
      "Done extracting features for 39000 / 49000 images\n",
      "Done extracting features for 40000 / 49000 images\n",
      "Done extracting features for 41000 / 49000 images\n",
      "Done extracting features for 42000 / 49000 images\n",
      "Done extracting features for 43000 / 49000 images\n",
      "Done extracting features for 44000 / 49000 images\n",
      "Done extracting features for 45000 / 49000 images\n",
      "Done extracting features for 46000 / 49000 images\n",
      "Done extracting features for 47000 / 49000 images\n",
      "Done extracting features for 48000 / 49000 images\n",
      "Done extracting features for 49000 / 49000 images\n"
     ]
    }
   ],
   "source": [
    "from cs231n.features import *\n",
    "\n",
    "num_color_bins = 10 # Number of bins in the color histogram\n",
    "feature_fns = [hog_feature, lambda img: color_histogram_hsv(img, nbin=num_color_bins)]\n",
    "X_train_feats = extract_features(X_train, feature_fns, verbose=True)\n",
    "X_val_feats = extract_features(X_val, feature_fns)\n",
    "X_test_feats = extract_features(X_test, feature_fns)\n",
    "\n",
    "# Preprocessing: Subtract the mean feature\n",
    "mean_feat = np.mean(X_train_feats, axis=0, keepdims=True)\n",
    "X_train_feats -= mean_feat\n",
    "X_val_feats -= mean_feat\n",
    "X_test_feats -= mean_feat\n",
    "\n",
    "# Preprocessing: Divide by standard deviation. This ensures that each feature\n",
    "# has roughly the same scale.\n",
    "std_feat = np.std(X_train_feats, axis=0, keepdims=True)\n",
    "X_train_feats /= std_feat\n",
    "X_val_feats /= std_feat\n",
    "X_test_feats /= std_feat\n",
    "\n",
    "# Preprocessing: Add a bias dimension\n",
    "X_train_feats = np.hstack([X_train_feats, np.ones((X_train_feats.shape[0], 1))])\n",
    "X_val_feats = np.hstack([X_val_feats, np.ones((X_val_feats.shape[0], 1))])\n",
    "X_test_feats = np.hstack([X_test_feats, np.ones((X_test_feats.shape[0], 1))])"
   ]
  },
  {
   "cell_type": "markdown",
   "metadata": {},
   "source": [
    "## Train SVM on features\n",
    "Using the multiclass SVM code developed earlier in the assignment, train SVMs on top of the features extracted above; this should achieve better results than training SVMs directly on top of raw pixels."
   ]
  },
  {
   "cell_type": "code",
   "execution_count": 4,
   "metadata": {
    "tags": [
     "code"
    ]
   },
   "outputs": [
    {
     "name": "stdout",
     "output_type": "stream",
     "text": [
      "lr 1.000000e-09 reg 5.000000e+04 train accuracy: 0.102449 val accuracy: 0.116000\n",
      "lr 1.000000e-09 reg 5.000000e+05 train accuracy: 0.097449 val accuracy: 0.102000\n",
      "lr 1.000000e-09 reg 5.000000e+06 train accuracy: 0.413816 val accuracy: 0.414000\n",
      "lr 1.000000e-08 reg 5.000000e+04 train accuracy: 0.094000 val accuracy: 0.082000\n",
      "lr 1.000000e-08 reg 5.000000e+05 train accuracy: 0.415551 val accuracy: 0.409000\n",
      "lr 1.000000e-08 reg 5.000000e+06 train accuracy: 0.403510 val accuracy: 0.400000\n",
      "lr 1.000000e-07 reg 5.000000e+04 train accuracy: 0.413429 val accuracy: 0.412000\n",
      "lr 1.000000e-07 reg 5.000000e+05 train accuracy: 0.408510 val accuracy: 0.411000\n",
      "lr 1.000000e-07 reg 5.000000e+06 train accuracy: 0.326755 val accuracy: 0.302000\n",
      "best validation accuracy achieved during cross-validation: 0.414000\n"
     ]
    }
   ],
   "source": [
    "# Use the validation set to tune the learning rate and regularization strength\n",
    "\n",
    "from cs231n.classifiers.linear_classifier import LinearSVM\n",
    "\n",
    "learning_rates = [1e-9, 1e-8, 1e-7]\n",
    "regularization_strengths = [5e4, 5e5, 5e6]\n",
    "\n",
    "results = {}\n",
    "best_val = -1\n",
    "best_svm = None\n",
    "\n",
    "# TODO: 使用提取的特征和不同的学习率和正则化强度训练SVM分类器，并在验证集上评估其性能。\n",
    "# *****START OF YOUR CODE (DO NOT DELETE/MODIFY THIS LINE)*****\n",
    "for lr in learning_rates:\n",
    "    for reg in regularization_strengths:\n",
    "        svm = LinearSVM()\n",
    "        loss_hist = svm.train(X_train_feats, y_train, learning_rate=lr, reg=reg,\n",
    "                              num_iters=1500, verbose=False)\n",
    "        \n",
    "        # 计算train acc和val acc\n",
    "        y_train_pred = svm.predict(X_train_feats)\n",
    "        train_accuracy = np.mean(y_train == y_train_pred)\n",
    "        \n",
    "        y_val_pred = svm.predict(X_val_feats)\n",
    "        val_accuracy = np.mean(y_val == y_val_pred)\n",
    "        \n",
    "        results[(lr, reg)] = (train_accuracy, val_accuracy)\n",
    "        \n",
    "        if val_accuracy > best_val:\n",
    "            best_val = val_accuracy\n",
    "            best_svm = svm\n",
    "\n",
    "# *****END OF YOUR CODE (DO NOT DELETE/MODIFY THIS LINE)*****\n",
    "\n",
    "# Print out results.\n",
    "for lr, reg in sorted(results):\n",
    "    train_accuracy, val_accuracy = results[(lr, reg)]\n",
    "    print('lr %e reg %e train accuracy: %f val accuracy: %f' % (\n",
    "                lr, reg, train_accuracy, val_accuracy))\n",
    "    \n",
    "print('best validation accuracy achieved during cross-validation: %f' % best_val)"
   ]
  },
  {
   "cell_type": "code",
   "execution_count": 5,
   "metadata": {},
   "outputs": [
    {
     "name": "stdout",
     "output_type": "stream",
     "text": [
      "0.411\n"
     ]
    }
   ],
   "source": [
    "# Evaluate your trained SVM on the test set\n",
    "y_test_pred = best_svm.predict(X_test_feats)\n",
    "test_accuracy = np.mean(y_test == y_test_pred)\n",
    "print(test_accuracy)"
   ]
  },
  {
   "cell_type": "code",
   "execution_count": 7,
   "metadata": {},
   "outputs": [
    {
     "data": {
      "image/png": "[encoded data removed]",
      "text/plain": [
       "<Figure size 1000x800 with 80 Axes>"
      ]
     },
     "metadata": {},
     "output_type": "display_data"
    }
   ],
   "source": [
    "# An important way to gain intuition about how an algorithm works is to\n",
    "# visualize the mistakes that it makes. In this visualization, we show examples\n",
    "# of images that are misclassified by our current system. The first column\n",
    "# shows images that our system labeled as \"plane\" but whose true label is\n",
    "# something other than \"plane\".\n",
    "\n",
    "examples_per_class = 8\n",
    "classes = ['plane', 'car', 'bird', 'cat', 'deer', 'dog', 'frog', 'horse', 'ship', 'truck']\n",
    "for cls, cls_name in enumerate(classes):\n",
    "    idxs = np.where((y_test != cls) & (y_test_pred == cls))[0]\n",
    "    idxs = np.random.choice(idxs, examples_per_class, replace=False)\n",
    "    for i, idx in enumerate(idxs):\n",
    "        plt.subplot(examples_per_class, len(classes), i * len(classes) + cls + 1)\n",
    "        plt.imshow(X_test[idx].astype('uint8'))\n",
    "        plt.axis('off')\n",
    "        if i == 0:\n",
    "            plt.title(cls_name)\n",
    "plt.show()"
   ]
  },
  {
   "cell_type": "markdown",
   "metadata": {
    "tags": [
     "pdf-inline"
    ]
   },
   "source": [
    "### Inline question 1:\n",
    "Describe the misclassification results that you see. Do they make sense?\n",
    "\n",
    "\n",
    "$\\color{blue}{\\textit Your Answer:}$\n",
    "\n",
    "\n"
   ]
  },
  {
   "cell_type": "markdown",
   "metadata": {},
   "source": [
    "## Neural Network on image features\n",
    "Earlier in this assigment we saw that training a two-layer neural network on raw pixels achieved better classification performance than linear classifiers on raw pixels. In this notebook we have seen that linear classifiers on image features outperform linear classifiers on raw pixels. \n",
    "\n",
    "For completeness, we should also try training a neural network on image features. This approach should outperform all previous approaches: you should easily be able to achieve over 55% classification accuracy on the test set; our best model achieves about 60% classification accuracy."
   ]
  },
  {
   "cell_type": "code",
   "execution_count": 8,
   "metadata": {
    "tags": [
     "pdf-ignore"
    ]
   },
   "outputs": [
    {
     "name": "stdout",
     "output_type": "stream",
     "text": [
      "(49000, 155)\n",
      "(49000, 154)\n"
     ]
    }
   ],
   "source": [
    "# Preprocessing: Remove the bias dimension\n",
    "# Make sure to run this cell only ONCE\n",
    "print(X_train_feats.shape)\n",
    "X_train_feats = X_train_feats[:, :-1]\n",
    "X_val_feats = X_val_feats[:, :-1]\n",
    "X_test_feats = X_test_feats[:, :-1]\n",
    "\n",
    "print(X_train_feats.shape)"
   ]
  },
  {
   "cell_type": "code",
   "execution_count": 14,
   "metadata": {
    "tags": [
     "code"
    ]
   },
   "outputs": [
    {
     "name": "stdout",
     "output_type": "stream",
     "text": [
      "特征数据统计:\n",
      "X_train_feats shape: (49000, 154)\n",
      "X_train_feats mean: -0.0000\n",
      "X_train_feats std: 1.0000\n",
      "X_train_feats min: -1.0900\n",
      "X_train_feats max: 24.8809\n",
      "\n",
      "开始神经网络超参数搜索...\n",
      "\n",
      "尝试参数: lr=0.01, reg=0.001, hidden_size=100\n",
      "训练准确率: 0.2290, 验证准确率: 0.2330\n",
      "★ 发现更好的模型! 验证准确率: 0.2330\n",
      "\n",
      "尝试参数: lr=0.01, reg=0.001, hidden_size=500\n",
      "训练准确率: 0.2290, 验证准确率: 0.2330\n",
      "★ 发现更好的模型! 验证准确率: 0.2330\n",
      "\n",
      "尝试参数: lr=0.01, reg=0.001, hidden_size=500\n",
      "训练准确率: 0.2550, 验证准确率: 0.2670\n",
      "★ 发现更好的模型! 验证准确率: 0.2670\n",
      "\n",
      "尝试参数: lr=0.01, reg=0.0001, hidden_size=100\n",
      "训练准确率: 0.2550, 验证准确率: 0.2670\n",
      "★ 发现更好的模型! 验证准确率: 0.2670\n",
      "\n",
      "尝试参数: lr=0.01, reg=0.0001, hidden_size=100\n",
      "训练准确率: 0.2336, 验证准确率: 0.2420\n",
      "\n",
      "尝试参数: lr=0.01, reg=0.0001, hidden_size=500\n",
      "训练准确率: 0.2336, 验证准确率: 0.2420\n",
      "\n",
      "尝试参数: lr=0.01, reg=0.0001, hidden_size=500\n",
      "训练准确率: 0.2709, 验证准确率: 0.2870\n",
      "★ 发现更好的模型! 验证准确率: 0.2870\n",
      "\n",
      "尝试参数: lr=0.01, reg=0, hidden_size=100\n",
      "训练准确率: 0.2709, 验证准确率: 0.2870\n",
      "★ 发现更好的模型! 验证准确率: 0.2870\n",
      "\n",
      "尝试参数: lr=0.01, reg=0, hidden_size=100\n",
      "训练准确率: 0.2256, 验证准确率: 0.2350\n",
      "\n",
      "尝试参数: lr=0.01, reg=0, hidden_size=500\n",
      "训练准确率: 0.2256, 验证准确率: 0.2350\n",
      "\n",
      "尝试参数: lr=0.01, reg=0, hidden_size=500\n",
      "训练准确率: 0.2583, 验证准确率: 0.2750\n",
      "\n",
      "尝试参数: lr=0.005, reg=0.001, hidden_size=100\n",
      "训练准确率: 0.2583, 验证准确率: 0.2750\n",
      "\n",
      "尝试参数: lr=0.005, reg=0.001, hidden_size=100\n",
      "训练准确率: 0.1007, 验证准确率: 0.0780\n",
      "\n",
      "尝试参数: lr=0.005, reg=0.001, hidden_size=500\n",
      "训练准确率: 0.1007, 验证准确率: 0.0780\n",
      "\n",
      "尝试参数: lr=0.005, reg=0.001, hidden_size=500\n",
      "训练准确率: 0.2017, 验证准确率: 0.1890\n",
      "\n",
      "尝试参数: lr=0.005, reg=0.0001, hidden_size=100\n",
      "训练准确率: 0.2017, 验证准确率: 0.1890\n",
      "\n",
      "尝试参数: lr=0.005, reg=0.0001, hidden_size=100\n",
      "训练准确率: 0.1003, 验证准确率: 0.0870\n",
      "\n",
      "尝试参数: lr=0.005, reg=0.0001, hidden_size=500\n",
      "训练准确率: 0.1003, 验证准确率: 0.0870\n",
      "\n",
      "尝试参数: lr=0.005, reg=0.0001, hidden_size=500\n",
      "训练准确率: 0.1649, 验证准确率: 0.1580\n",
      "\n",
      "尝试参数: lr=0.005, reg=0, hidden_size=100\n",
      "训练准确率: 0.1649, 验证准确率: 0.1580\n",
      "\n",
      "尝试参数: lr=0.005, reg=0, hidden_size=100\n",
      "训练准确率: 0.1515, 验证准确率: 0.1280\n",
      "\n",
      "尝试参数: lr=0.005, reg=0, hidden_size=500\n",
      "训练准确率: 0.1515, 验证准确率: 0.1280\n",
      "\n",
      "尝试参数: lr=0.005, reg=0, hidden_size=500\n",
      "训练准确率: 0.1768, 验证准确率: 0.1750\n",
      "\n",
      "尝试参数: lr=0.001, reg=0.001, hidden_size=100\n",
      "训练准确率: 0.1768, 验证准确率: 0.1750\n",
      "\n",
      "尝试参数: lr=0.001, reg=0.001, hidden_size=100\n",
      "训练准确率: 0.1004, 验证准确率: 0.0780\n",
      "\n",
      "尝试参数: lr=0.001, reg=0.001, hidden_size=500\n",
      "训练准确率: 0.1004, 验证准确率: 0.0780\n",
      "\n",
      "尝试参数: lr=0.001, reg=0.001, hidden_size=500\n",
      "训练准确率: 0.0997, 验证准确率: 0.1130\n",
      "\n",
      "尝试参数: lr=0.001, reg=0.0001, hidden_size=100\n",
      "训练准确率: 0.0997, 验证准确率: 0.1130\n",
      "\n",
      "尝试参数: lr=0.001, reg=0.0001, hidden_size=100\n",
      "训练准确率: 0.0998, 验证准确率: 0.1120\n",
      "\n",
      "尝试参数: lr=0.001, reg=0.0001, hidden_size=500\n",
      "训练准确率: 0.0998, 验证准确率: 0.1120\n",
      "\n",
      "尝试参数: lr=0.001, reg=0.0001, hidden_size=500\n",
      "训练准确率: 0.1004, 验证准确率: 0.0780\n",
      "\n",
      "尝试参数: lr=0.001, reg=0, hidden_size=100\n",
      "训练准确率: 0.1004, 验证准确率: 0.0780\n",
      "\n",
      "尝试参数: lr=0.001, reg=0, hidden_size=100\n",
      "训练准确率: 0.1004, 验证准确率: 0.0790\n",
      "\n",
      "尝试参数: lr=0.001, reg=0, hidden_size=500\n",
      "训练准确率: 0.1004, 验证准确率: 0.0790\n",
      "\n",
      "尝试参数: lr=0.001, reg=0, hidden_size=500\n",
      "训练准确率: 0.1000, 验证准确率: 0.1020\n",
      "\n",
      "最佳参数: {'lr': 0.01, 'reg': 0.0001, 'hidden_size': 500}\n",
      "最佳验证准确率: 0.2870\n",
      "\n",
      "结果不理想，尝试特殊配置...\n",
      "\n",
      "尝试特殊配置: {'lr': 0.1, 'reg': 0, 'hidden_size': 500, 'num_iters': 5000}\n",
      "训练准确率: 0.1000, 验证准确率: 0.1020\n",
      "\n",
      "最佳参数: {'lr': 0.01, 'reg': 0.0001, 'hidden_size': 500}\n",
      "最佳验证准确率: 0.2870\n",
      "\n",
      "结果不理想，尝试特殊配置...\n",
      "\n",
      "尝试特殊配置: {'lr': 0.1, 'reg': 0, 'hidden_size': 500, 'num_iters': 5000}\n",
      "训练准确率: 0.6341, 验证准确率: 0.5910\n",
      "★★ 特殊配置效果更好! 验证准确率: 0.5910\n",
      "\n",
      "尝试特殊配置: {'lr': 0.05, 'reg': 1e-05, 'hidden_size': 500, 'num_iters': 4000}\n",
      "训练准确率: 0.6341, 验证准确率: 0.5910\n",
      "★★ 特殊配置效果更好! 验证准确率: 0.5910\n",
      "\n",
      "尝试特殊配置: {'lr': 0.05, 'reg': 1e-05, 'hidden_size': 500, 'num_iters': 4000}\n",
      "训练准确率: 0.5492, 验证准确率: 0.5330\n",
      "\n",
      "尝试特殊配置: {'lr': 0.02, 'reg': 0.0001, 'hidden_size': 300, 'num_iters': 4000}\n",
      "训练准确率: 0.5492, 验证准确率: 0.5330\n",
      "\n",
      "尝试特殊配置: {'lr': 0.02, 'reg': 0.0001, 'hidden_size': 300, 'num_iters': 4000}\n",
      "训练准确率: 0.4778, 验证准确率: 0.4650\n",
      "\n",
      "最终最佳验证准确率: 0.5910\n",
      "训练准确率: 0.4778, 验证准确率: 0.4650\n",
      "\n",
      "最终最佳验证准确率: 0.5910\n"
     ]
    }
   ],
   "source": [
    "from cs231n.classifiers.neural_net import TwoLayerNet\n",
    "\n",
    "input_dim = X_train_feats.shape[1]\n",
    "hidden_dim = 500\n",
    "num_classes = 10\n",
    "\n",
    "net = TwoLayerNet(input_dim, hidden_dim, num_classes)\n",
    "best_net = None\n",
    "\n",
    "################################################################################\n",
    "# TODO: Train a two-layer neural network on image features. You may want to    #\n",
    "# cross-validate various parameters as in previous sections. Store your best   #\n",
    "# model in the best_net variable.                                              #\n",
    "################################################################################\n",
    "# *****START OF YOUR CODE (DO NOT DELETE/MODIFY THIS LINE)*****\n",
    "\n",
    "# 检查数据范围\n",
    "print(\"特征数据统计:\")\n",
    "print(f\"X_train_feats shape: {X_train_feats.shape}\")\n",
    "print(f\"X_train_feats mean: {X_train_feats.mean():.4f}\")\n",
    "print(f\"X_train_feats std: {X_train_feats.std():.4f}\")\n",
    "print(f\"X_train_feats min: {X_train_feats.min():.4f}\")\n",
    "print(f\"X_train_feats max: {X_train_feats.max():.4f}\")\n",
    "\n",
    "# 更大的学习率范围和更小的正则化\n",
    "learning_rates = [1e-2, 5e-3, 1e-3]  # 更大的学习率\n",
    "regularization_strengths = [1e-3, 1e-4, 0]  # 更小的正则化，包括无正则化\n",
    "hidden_sizes = [100, 500]\n",
    "\n",
    "best_val_acc = 0\n",
    "best_params = {}\n",
    "results = {}\n",
    "\n",
    "print(\"\\n开始神经网络超参数搜索...\")\n",
    "\n",
    "for lr in learning_rates:\n",
    "    for reg in regularization_strengths:\n",
    "        for hidden_size in hidden_sizes:\n",
    "            print(f\"\\n尝试参数: lr={lr}, reg={reg}, hidden_size={hidden_size}\")\n",
    "            \n",
    "            # 创建网络\n",
    "            net = TwoLayerNet(input_dim, hidden_size, num_classes)\n",
    "            \n",
    "            # 训练网络，更多迭代次数\n",
    "            stats = net.train(X_train_feats, y_train, X_val_feats, y_val,\n",
    "                            learning_rate=lr, \n",
    "                            reg=reg,\n",
    "                            num_iters=3000,  # 更多迭代次数\n",
    "                            batch_size=200,\n",
    "                            learning_rate_decay=0.95,\n",
    "                            verbose=False)\n",
    "            \n",
    "            # 计算验证准确率\n",
    "            val_acc = (net.predict(X_val_feats) == y_val).mean()\n",
    "            train_acc = (net.predict(X_train_feats) == y_train).mean()\n",
    "            \n",
    "            results[(lr, reg, hidden_size)] = val_acc\n",
    "            \n",
    "            print(f\"训练准确率: {train_acc:.4f}, 验证准确率: {val_acc:.4f}\")\n",
    "            \n",
    "            # 保存最佳模型\n",
    "            if val_acc > best_val_acc:\n",
    "                best_val_acc = val_acc\n",
    "                best_net = net\n",
    "                best_params = {'lr': lr, 'reg': reg, 'hidden_size': hidden_size}\n",
    "                print(f\"★ 发现更好的模型! 验证准确率: {best_val_acc:.4f}\")\n",
    "\n",
    "print(f\"\\n最佳参数: {best_params}\")\n",
    "print(f\"最佳验证准确率: {best_val_acc:.4f}\")\n",
    "\n",
    "# 如果结果仍然不好，尝试单独的最优配置\n",
    "if best_val_acc < 0.4:\n",
    "    print(\"\\n结果不理想，尝试特殊配置...\")\n",
    "    \n",
    "    # 尝试非常大的学习率和无正则化\n",
    "    special_configs = [\n",
    "        {'lr': 1e-1, 'reg': 0, 'hidden_size': 500, 'num_iters': 5000},\n",
    "        {'lr': 5e-2, 'reg': 1e-5, 'hidden_size': 500, 'num_iters': 4000},\n",
    "        {'lr': 2e-2, 'reg': 1e-4, 'hidden_size': 300, 'num_iters': 4000}\n",
    "    ]\n",
    "    \n",
    "    for config in special_configs:\n",
    "        print(f\"\\n尝试特殊配置: {config}\")\n",
    "        net = TwoLayerNet(input_dim, config['hidden_size'], num_classes)\n",
    "        \n",
    "        stats = net.train(X_train_feats, y_train, X_val_feats, y_val,\n",
    "                        learning_rate=config['lr'], \n",
    "                        reg=config['reg'],\n",
    "                        num_iters=config['num_iters'],\n",
    "                        batch_size=200,\n",
    "                        learning_rate_decay=0.95,\n",
    "                        verbose=False)\n",
    "        \n",
    "        val_acc = (net.predict(X_val_feats) == y_val).mean()\n",
    "        train_acc = (net.predict(X_train_feats) == y_train).mean()\n",
    "        \n",
    "        print(f\"训练准确率: {train_acc:.4f}, 验证准确率: {val_acc:.4f}\")\n",
    "        \n",
    "        if val_acc > best_val_acc:\n",
    "            best_val_acc = val_acc\n",
    "            best_net = net\n",
    "            best_params = config\n",
    "            print(f\"★★ 特殊配置效果更好! 验证准确率: {best_val_acc:.4f}\")\n",
    "\n",
    "print(f\"\\n最终最佳验证准确率: {best_val_acc:.4f}\")\n",
    "\n",
    "# *****END OF YOUR CODE (DO NOT DELETE/MODIFY THIS LINE)*****"
   ]
  },
  {
   "cell_type": "code",
   "execution_count": 15,
   "metadata": {},
   "outputs": [
    {
     "name": "stdout",
     "output_type": "stream",
     "text": [
      "0.578\n"
     ]
    }
   ],
   "source": [
    "# Run your best neural net classifier on the test set. You should be able\n",
    "# to get more than 55% accuracy.\n",
    "\n",
    "test_acc = (best_net.predict(X_test_feats) == y_test).mean()\n",
    "print(test_acc)"
   ]
  },
  {
   "cell_type": "code",
   "execution_count": null,
   "metadata": {},
   "outputs": [],
   "source": [
    "# 备用：简化版神经网络训练代码\n",
    "# 如果上面的cell出现问题，可以使用这个简化版本\n",
    "\n",
    "from cs231n.classifiers.neural_net import TwoLayerNet\n",
    "\n",
    "# 使用我们找到的最佳参数直接训练\n",
    "print(\"使用最佳参数训练神经网络...\")\n",
    "print(\"最佳配置: lr=0.1, reg=0, hidden_size=500, num_iters=5000\")\n",
    "\n",
    "# 创建并训练网络\n",
    "best_net_simple = TwoLayerNet(input_dim=154, hidden_size=500, num_classes=10)\n",
    "\n",
    "stats = best_net_simple.train(X_train_feats, y_train, X_val_feats, y_val,\n",
    "                             learning_rate=0.1, \n",
    "                             reg=0,\n",
    "                             num_iters=5000,\n",
    "                             batch_size=200,\n",
    "                             learning_rate_decay=0.95,\n",
    "                             verbose=True) \n",
    "\n",
    "\n",
    "train_acc = (best_net_simple.predict(X_train_feats) == y_train).mean()\n",
    "val_acc = (best_net_simple.predict(X_val_feats) == y_val).mean()\n",
    "test_acc = (best_net_simple.predict(X_test_feats) == y_test).mean()\n",
    "\n",
    "print(f\"\\n最终结果:\")\n",
    "print(f\"训练准确率: {train_acc:.4f}\")\n",
    "print(f\"验证准确率: {val_acc:.4f}\")\n",
    "print(f\"测试准确率: {test_acc:.4f}\")\n",
    "\n",
    "# 更新最佳网络变量\n",
    "best_net = best_net_simple"
   ]
  }
 ],
 "metadata": {
  "kernelspec": {
   "display_name": "venv",
   "language": "python",
   "name": "python3"
  },
  "language_info": {
   "codemirror_mode": {
    "name": "ipython",
    "version": 3
   },
   "file_extension": ".py",
   "mimetype": "text/x-python",
   "name": "python",
   "nbconvert_exporter": "python",
   "pygments_lexer": "ipython3",
   "version": "3.11.9"
  }
 },
 "nbformat": 4,
 "nbformat_minor": 1
}
